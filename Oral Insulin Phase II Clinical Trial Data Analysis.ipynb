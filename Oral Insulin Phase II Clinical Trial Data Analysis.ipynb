{
 "cells": [
  {
   "cell_type": "markdown",
   "metadata": {},
   "source": [
    "# Oral Insulin Phase II Clinical Trial Data Analysis"
   ]
  },
  {
   "cell_type": "markdown",
   "metadata": {},
   "source": [
    "#### <i> By Samuel Oyedele </i>"
   ]
  },
  {
   "cell_type": "markdown",
   "metadata": {},
   "source": [
    "## Introduction\n",
    "\n",
    "<h5> What is Insulin? </h5> \n",
    "<p> Insulin is a naturally occurring hormone your pancreas makes that’s essential for allowing your body to use sugar (glucose) for energy. If your pancreas doesn’t make enough insulin or your body doesn’t use insulin properly, it leads to high blood sugar levels (hyperglycemia). This results in diabetes. </p>\n",
    "<h5> Administration of insulin for diabetes </h5>\n",
    "<p> There are many different types of insulin. Most types are injectable, either through a needle, pen or pump. There’s also inhalable insulin.</p>\n",
    "<p> You can read more on insulin <a href='https://my.clevelandclinic.org/health/body/22601-insulin'>here</a>\n"
   ]
  },
  {
   "cell_type": "markdown",
   "metadata": {},
   "source": [
    "## Datasets\n",
    "The dataset is phase two clinical trial data of 350 patients for a new innovative oral insulin called Auralin - a proprietary capsule that can solve this stomach lining problem.\n",
    "\n",
    "Phase two trials are intended to:\n",
    "- Test the efficacy and the dose response of a drug\n",
    "- Identify adverse reactions\n",
    "\n",
    "\n",
    "In this trial, half of the patients are being treated with Auralin, and the other 175 being treated with a popular injectable insulin called Novodra. By comparing key metrics between these two drugs, we can determine if Auralin is effective."
   ]
  },
  {
   "cell_type": "markdown",
   "metadata": {},
   "source": [
    "## Questions\n",
    "- Does weight have an effect on diabetes?\n",
    "- What are the adverse reactions for the treatments?\n",
    "- Mean Insulin Dose Change (IU)\n",
    "- Relationship between the dose_change and hbalc_change over treatments.\n",
    "- Mean Hba(hemoglobin A1c) change over insulin treatments.\n"
   ]
  },
  {
   "cell_type": "markdown",
   "metadata": {},
   "source": [
    "## Data Wrangling\n",
    "In this section, all three pieces of data are gathered, accessed its quality and tidiness issues and cleaned the data for better analysis and visualization."
   ]
  },
  {
   "cell_type": "markdown",
   "metadata": {},
   "source": [
    "### Gather\n",
    "In this section, the three pieces of data are loaded to dataframes using pandas `read_csv`."
   ]
  },
  {
   "cell_type": "code",
   "execution_count": 1,
   "metadata": {},
   "outputs": [],
   "source": [
    "# import the necessary library\n",
    "\n",
    "import pandas as pd\n",
    "import numpy as np\n",
    "import matplotlib.pyplot as plt\n",
    "import seaborn as sns\n",
    "%matplotlib inline"
   ]
  },
  {
   "cell_type": "code",
   "execution_count": 2,
   "metadata": {},
   "outputs": [],
   "source": [
    "# read the dataset files\n",
    "patient_df = pd.read_csv('patients.csv')\n",
    "treatment_df = pd.read_csv('treatments.csv')\n",
    "adv_reaction_df = pd.read_csv('adverse_reactions.csv')"
   ]
  },
  {
   "cell_type": "markdown",
   "metadata": {},
   "source": [
    "### Assess\n",
    "In this section, the datasets are accessed to detect quality and tidiness issues using visual and programmatic assessments. "
   ]
  },
  {
   "cell_type": "markdown",
   "metadata": {},
   "source": [
    "#### Patients table"
   ]
  },
  {
   "cell_type": "code",
   "execution_count": 3,
   "metadata": {},
   "outputs": [
    {
     "data": {
      "text/html": [
       "<div>\n",
       "<style scoped>\n",
       "    .dataframe tbody tr th:only-of-type {\n",
       "        vertical-align: middle;\n",
       "    }\n",
       "\n",
       "    .dataframe tbody tr th {\n",
       "        vertical-align: top;\n",
       "    }\n",
       "\n",
       "    .dataframe thead th {\n",
       "        text-align: right;\n",
       "    }\n",
       "</style>\n",
       "<table border=\"1\" class=\"dataframe\">\n",
       "  <thead>\n",
       "    <tr style=\"text-align: right;\">\n",
       "      <th></th>\n",
       "      <th>patient_id</th>\n",
       "      <th>assigned_sex</th>\n",
       "      <th>given_name</th>\n",
       "      <th>surname</th>\n",
       "      <th>address</th>\n",
       "      <th>city</th>\n",
       "      <th>state</th>\n",
       "      <th>zip_code</th>\n",
       "      <th>country</th>\n",
       "      <th>contact</th>\n",
       "      <th>birthdate</th>\n",
       "      <th>weight</th>\n",
       "      <th>height</th>\n",
       "      <th>bmi</th>\n",
       "    </tr>\n",
       "  </thead>\n",
       "  <tbody>\n",
       "    <tr>\n",
       "      <th>0</th>\n",
       "      <td>1</td>\n",
       "      <td>female</td>\n",
       "      <td>Zoe</td>\n",
       "      <td>Wellish</td>\n",
       "      <td>576 Brown Bear Drive</td>\n",
       "      <td>Rancho California</td>\n",
       "      <td>California</td>\n",
       "      <td>92390.0</td>\n",
       "      <td>United States</td>\n",
       "      <td>951-719-9170ZoeWellish@superrito.com</td>\n",
       "      <td>7/10/1976</td>\n",
       "      <td>121.7</td>\n",
       "      <td>66</td>\n",
       "      <td>19.6</td>\n",
       "    </tr>\n",
       "    <tr>\n",
       "      <th>1</th>\n",
       "      <td>2</td>\n",
       "      <td>female</td>\n",
       "      <td>Pamela</td>\n",
       "      <td>Hill</td>\n",
       "      <td>2370 University Hill Road</td>\n",
       "      <td>Armstrong</td>\n",
       "      <td>Illinois</td>\n",
       "      <td>61812.0</td>\n",
       "      <td>United States</td>\n",
       "      <td>PamelaSHill@cuvox.de+1 (217) 569-3204</td>\n",
       "      <td>4/3/1967</td>\n",
       "      <td>118.8</td>\n",
       "      <td>66</td>\n",
       "      <td>19.2</td>\n",
       "    </tr>\n",
       "    <tr>\n",
       "      <th>2</th>\n",
       "      <td>3</td>\n",
       "      <td>male</td>\n",
       "      <td>Jae</td>\n",
       "      <td>Debord</td>\n",
       "      <td>1493 Poling Farm Road</td>\n",
       "      <td>York</td>\n",
       "      <td>Nebraska</td>\n",
       "      <td>68467.0</td>\n",
       "      <td>United States</td>\n",
       "      <td>402-363-6804JaeMDebord@gustr.com</td>\n",
       "      <td>2/19/1980</td>\n",
       "      <td>177.8</td>\n",
       "      <td>71</td>\n",
       "      <td>24.8</td>\n",
       "    </tr>\n",
       "    <tr>\n",
       "      <th>3</th>\n",
       "      <td>4</td>\n",
       "      <td>male</td>\n",
       "      <td>Liêm</td>\n",
       "      <td>Phan</td>\n",
       "      <td>2335 Webster Street</td>\n",
       "      <td>Woodbridge</td>\n",
       "      <td>NJ</td>\n",
       "      <td>7095.0</td>\n",
       "      <td>United States</td>\n",
       "      <td>PhanBaLiem@jourrapide.com+1 (732) 636-8246</td>\n",
       "      <td>7/26/1951</td>\n",
       "      <td>220.9</td>\n",
       "      <td>70</td>\n",
       "      <td>31.7</td>\n",
       "    </tr>\n",
       "    <tr>\n",
       "      <th>4</th>\n",
       "      <td>5</td>\n",
       "      <td>male</td>\n",
       "      <td>Tim</td>\n",
       "      <td>Neudorf</td>\n",
       "      <td>1428 Turkey Pen Lane</td>\n",
       "      <td>Dothan</td>\n",
       "      <td>AL</td>\n",
       "      <td>36303.0</td>\n",
       "      <td>United States</td>\n",
       "      <td>334-515-7487TimNeudorf@cuvox.de</td>\n",
       "      <td>2/18/1928</td>\n",
       "      <td>192.3</td>\n",
       "      <td>27</td>\n",
       "      <td>26.1</td>\n",
       "    </tr>\n",
       "  </tbody>\n",
       "</table>\n",
       "</div>"
      ],
      "text/plain": [
       "   patient_id assigned_sex given_name  surname                    address  \\\n",
       "0           1       female        Zoe  Wellish       576 Brown Bear Drive   \n",
       "1           2       female     Pamela     Hill  2370 University Hill Road   \n",
       "2           3         male        Jae   Debord      1493 Poling Farm Road   \n",
       "3           4         male       Liêm     Phan        2335 Webster Street   \n",
       "4           5         male        Tim  Neudorf       1428 Turkey Pen Lane   \n",
       "\n",
       "                city       state  zip_code        country  \\\n",
       "0  Rancho California  California   92390.0  United States   \n",
       "1          Armstrong    Illinois   61812.0  United States   \n",
       "2               York    Nebraska   68467.0  United States   \n",
       "3         Woodbridge          NJ    7095.0  United States   \n",
       "4             Dothan          AL   36303.0  United States   \n",
       "\n",
       "                                      contact  birthdate  weight  height   bmi  \n",
       "0        951-719-9170ZoeWellish@superrito.com  7/10/1976   121.7      66  19.6  \n",
       "1       PamelaSHill@cuvox.de+1 (217) 569-3204   4/3/1967   118.8      66  19.2  \n",
       "2            402-363-6804JaeMDebord@gustr.com  2/19/1980   177.8      71  24.8  \n",
       "3  PhanBaLiem@jourrapide.com+1 (732) 636-8246  7/26/1951   220.9      70  31.7  \n",
       "4             334-515-7487TimNeudorf@cuvox.de  2/18/1928   192.3      27  26.1  "
      ]
     },
     "execution_count": 3,
     "metadata": {},
     "output_type": "execute_result"
    }
   ],
   "source": [
    "#preview data\n",
    "patient_df.head()"
   ]
  },
  {
   "cell_type": "code",
   "execution_count": 4,
   "metadata": {
    "scrolled": true
   },
   "outputs": [
    {
     "name": "stdout",
     "output_type": "stream",
     "text": [
      "<class 'pandas.core.frame.DataFrame'>\n",
      "RangeIndex: 503 entries, 0 to 502\n",
      "Data columns (total 14 columns):\n",
      " #   Column        Non-Null Count  Dtype  \n",
      "---  ------        --------------  -----  \n",
      " 0   patient_id    503 non-null    int64  \n",
      " 1   assigned_sex  503 non-null    object \n",
      " 2   given_name    503 non-null    object \n",
      " 3   surname       503 non-null    object \n",
      " 4   address       491 non-null    object \n",
      " 5   city          491 non-null    object \n",
      " 6   state         491 non-null    object \n",
      " 7   zip_code      491 non-null    float64\n",
      " 8   country       491 non-null    object \n",
      " 9   contact       491 non-null    object \n",
      " 10  birthdate     503 non-null    object \n",
      " 11  weight        503 non-null    float64\n",
      " 12  height        503 non-null    int64  \n",
      " 13  bmi           503 non-null    float64\n",
      "dtypes: float64(3), int64(2), object(9)\n",
      "memory usage: 55.1+ KB\n"
     ]
    }
   ],
   "source": [
    "# data columns information\n",
    "patient_df.info()"
   ]
  },
  {
   "cell_type": "code",
   "execution_count": 5,
   "metadata": {},
   "outputs": [
    {
     "data": {
      "text/html": [
       "<div>\n",
       "<style scoped>\n",
       "    .dataframe tbody tr th:only-of-type {\n",
       "        vertical-align: middle;\n",
       "    }\n",
       "\n",
       "    .dataframe tbody tr th {\n",
       "        vertical-align: top;\n",
       "    }\n",
       "\n",
       "    .dataframe thead th {\n",
       "        text-align: right;\n",
       "    }\n",
       "</style>\n",
       "<table border=\"1\" class=\"dataframe\">\n",
       "  <thead>\n",
       "    <tr style=\"text-align: right;\">\n",
       "      <th></th>\n",
       "      <th>patient_id</th>\n",
       "      <th>zip_code</th>\n",
       "      <th>weight</th>\n",
       "      <th>height</th>\n",
       "      <th>bmi</th>\n",
       "    </tr>\n",
       "  </thead>\n",
       "  <tbody>\n",
       "    <tr>\n",
       "      <th>count</th>\n",
       "      <td>503.000000</td>\n",
       "      <td>491.000000</td>\n",
       "      <td>503.000000</td>\n",
       "      <td>503.000000</td>\n",
       "      <td>503.000000</td>\n",
       "    </tr>\n",
       "    <tr>\n",
       "      <th>mean</th>\n",
       "      <td>252.000000</td>\n",
       "      <td>49084.118126</td>\n",
       "      <td>173.434990</td>\n",
       "      <td>66.634195</td>\n",
       "      <td>27.483897</td>\n",
       "    </tr>\n",
       "    <tr>\n",
       "      <th>std</th>\n",
       "      <td>145.347859</td>\n",
       "      <td>30265.807442</td>\n",
       "      <td>33.916741</td>\n",
       "      <td>4.411297</td>\n",
       "      <td>5.276438</td>\n",
       "    </tr>\n",
       "    <tr>\n",
       "      <th>min</th>\n",
       "      <td>1.000000</td>\n",
       "      <td>1002.000000</td>\n",
       "      <td>48.800000</td>\n",
       "      <td>27.000000</td>\n",
       "      <td>17.100000</td>\n",
       "    </tr>\n",
       "    <tr>\n",
       "      <th>25%</th>\n",
       "      <td>126.500000</td>\n",
       "      <td>21920.500000</td>\n",
       "      <td>149.300000</td>\n",
       "      <td>63.000000</td>\n",
       "      <td>23.300000</td>\n",
       "    </tr>\n",
       "    <tr>\n",
       "      <th>50%</th>\n",
       "      <td>252.000000</td>\n",
       "      <td>48057.000000</td>\n",
       "      <td>175.300000</td>\n",
       "      <td>67.000000</td>\n",
       "      <td>27.200000</td>\n",
       "    </tr>\n",
       "    <tr>\n",
       "      <th>75%</th>\n",
       "      <td>377.500000</td>\n",
       "      <td>75679.000000</td>\n",
       "      <td>199.500000</td>\n",
       "      <td>70.000000</td>\n",
       "      <td>31.750000</td>\n",
       "    </tr>\n",
       "    <tr>\n",
       "      <th>max</th>\n",
       "      <td>503.000000</td>\n",
       "      <td>99701.000000</td>\n",
       "      <td>255.900000</td>\n",
       "      <td>79.000000</td>\n",
       "      <td>37.700000</td>\n",
       "    </tr>\n",
       "  </tbody>\n",
       "</table>\n",
       "</div>"
      ],
      "text/plain": [
       "       patient_id      zip_code      weight      height         bmi\n",
       "count  503.000000    491.000000  503.000000  503.000000  503.000000\n",
       "mean   252.000000  49084.118126  173.434990   66.634195   27.483897\n",
       "std    145.347859  30265.807442   33.916741    4.411297    5.276438\n",
       "min      1.000000   1002.000000   48.800000   27.000000   17.100000\n",
       "25%    126.500000  21920.500000  149.300000   63.000000   23.300000\n",
       "50%    252.000000  48057.000000  175.300000   67.000000   27.200000\n",
       "75%    377.500000  75679.000000  199.500000   70.000000   31.750000\n",
       "max    503.000000  99701.000000  255.900000   79.000000   37.700000"
      ]
     },
     "execution_count": 5,
     "metadata": {},
     "output_type": "execute_result"
    }
   ],
   "source": [
    "# summary statistics\n",
    "patient_df.describe()"
   ]
  },
  {
   "cell_type": "code",
   "execution_count": 6,
   "metadata": {},
   "outputs": [
    {
     "data": {
      "text/plain": [
       "surname\n",
       "Doe            6\n",
       "Jakobsen       3\n",
       "Taylor         3\n",
       "Ogochukwu      2\n",
       "Tucker         2\n",
       "              ..\n",
       "Casárez        1\n",
       "Mata           1\n",
       "Pospíšil       1\n",
       "Rukavina       1\n",
       "Onyekaozulu    1\n",
       "Name: count, Length: 466, dtype: int64"
      ]
     },
     "execution_count": 6,
     "metadata": {},
     "output_type": "execute_result"
    }
   ],
   "source": [
    "# check for surname duplicates\n",
    "patient_df.surname.value_counts()"
   ]
  },
  {
   "cell_type": "code",
   "execution_count": 7,
   "metadata": {
    "scrolled": true
   },
   "outputs": [
    {
     "data": {
      "text/html": [
       "<div>\n",
       "<style scoped>\n",
       "    .dataframe tbody tr th:only-of-type {\n",
       "        vertical-align: middle;\n",
       "    }\n",
       "\n",
       "    .dataframe tbody tr th {\n",
       "        vertical-align: top;\n",
       "    }\n",
       "\n",
       "    .dataframe thead th {\n",
       "        text-align: right;\n",
       "    }\n",
       "</style>\n",
       "<table border=\"1\" class=\"dataframe\">\n",
       "  <thead>\n",
       "    <tr style=\"text-align: right;\">\n",
       "      <th></th>\n",
       "      <th>patient_id</th>\n",
       "      <th>assigned_sex</th>\n",
       "      <th>given_name</th>\n",
       "      <th>surname</th>\n",
       "      <th>address</th>\n",
       "      <th>city</th>\n",
       "      <th>state</th>\n",
       "      <th>zip_code</th>\n",
       "      <th>country</th>\n",
       "      <th>contact</th>\n",
       "      <th>birthdate</th>\n",
       "      <th>weight</th>\n",
       "      <th>height</th>\n",
       "      <th>bmi</th>\n",
       "    </tr>\n",
       "  </thead>\n",
       "  <tbody>\n",
       "    <tr>\n",
       "      <th>29</th>\n",
       "      <td>30</td>\n",
       "      <td>male</td>\n",
       "      <td>Jake</td>\n",
       "      <td>Jakobsen</td>\n",
       "      <td>648 Old Dear Lane</td>\n",
       "      <td>Port Jervis</td>\n",
       "      <td>New York</td>\n",
       "      <td>12771.0</td>\n",
       "      <td>United States</td>\n",
       "      <td>JakobCJakobsen@einrot.com+1 (845) 858-7707</td>\n",
       "      <td>8/1/1985</td>\n",
       "      <td>155.8</td>\n",
       "      <td>67</td>\n",
       "      <td>24.4</td>\n",
       "    </tr>\n",
       "    <tr>\n",
       "      <th>219</th>\n",
       "      <td>220</td>\n",
       "      <td>male</td>\n",
       "      <td>Mỹ</td>\n",
       "      <td>Quynh</td>\n",
       "      <td>NaN</td>\n",
       "      <td>NaN</td>\n",
       "      <td>NaN</td>\n",
       "      <td>NaN</td>\n",
       "      <td>NaN</td>\n",
       "      <td>NaN</td>\n",
       "      <td>4/9/1978</td>\n",
       "      <td>237.8</td>\n",
       "      <td>69</td>\n",
       "      <td>35.1</td>\n",
       "    </tr>\n",
       "    <tr>\n",
       "      <th>229</th>\n",
       "      <td>230</td>\n",
       "      <td>male</td>\n",
       "      <td>John</td>\n",
       "      <td>Doe</td>\n",
       "      <td>123 Main Street</td>\n",
       "      <td>New York</td>\n",
       "      <td>NY</td>\n",
       "      <td>12345.0</td>\n",
       "      <td>United States</td>\n",
       "      <td>johndoe@email.com1234567890</td>\n",
       "      <td>1/1/1975</td>\n",
       "      <td>180.0</td>\n",
       "      <td>72</td>\n",
       "      <td>24.4</td>\n",
       "    </tr>\n",
       "    <tr>\n",
       "      <th>230</th>\n",
       "      <td>231</td>\n",
       "      <td>female</td>\n",
       "      <td>Elisabeth</td>\n",
       "      <td>Knudsen</td>\n",
       "      <td>NaN</td>\n",
       "      <td>NaN</td>\n",
       "      <td>NaN</td>\n",
       "      <td>NaN</td>\n",
       "      <td>NaN</td>\n",
       "      <td>NaN</td>\n",
       "      <td>9/23/1976</td>\n",
       "      <td>165.9</td>\n",
       "      <td>63</td>\n",
       "      <td>29.4</td>\n",
       "    </tr>\n",
       "    <tr>\n",
       "      <th>234</th>\n",
       "      <td>235</td>\n",
       "      <td>female</td>\n",
       "      <td>Martina</td>\n",
       "      <td>Tománková</td>\n",
       "      <td>NaN</td>\n",
       "      <td>NaN</td>\n",
       "      <td>NaN</td>\n",
       "      <td>NaN</td>\n",
       "      <td>NaN</td>\n",
       "      <td>NaN</td>\n",
       "      <td>4/7/1936</td>\n",
       "      <td>199.5</td>\n",
       "      <td>65</td>\n",
       "      <td>33.2</td>\n",
       "    </tr>\n",
       "    <tr>\n",
       "      <th>237</th>\n",
       "      <td>238</td>\n",
       "      <td>male</td>\n",
       "      <td>John</td>\n",
       "      <td>Doe</td>\n",
       "      <td>123 Main Street</td>\n",
       "      <td>New York</td>\n",
       "      <td>NY</td>\n",
       "      <td>12345.0</td>\n",
       "      <td>United States</td>\n",
       "      <td>johndoe@email.com1234567890</td>\n",
       "      <td>1/1/1975</td>\n",
       "      <td>180.0</td>\n",
       "      <td>72</td>\n",
       "      <td>24.4</td>\n",
       "    </tr>\n",
       "    <tr>\n",
       "      <th>242</th>\n",
       "      <td>243</td>\n",
       "      <td>male</td>\n",
       "      <td>John</td>\n",
       "      <td>O'Brian</td>\n",
       "      <td>NaN</td>\n",
       "      <td>NaN</td>\n",
       "      <td>NaN</td>\n",
       "      <td>NaN</td>\n",
       "      <td>NaN</td>\n",
       "      <td>NaN</td>\n",
       "      <td>2/25/1957</td>\n",
       "      <td>205.3</td>\n",
       "      <td>74</td>\n",
       "      <td>26.4</td>\n",
       "    </tr>\n",
       "    <tr>\n",
       "      <th>244</th>\n",
       "      <td>245</td>\n",
       "      <td>male</td>\n",
       "      <td>John</td>\n",
       "      <td>Doe</td>\n",
       "      <td>123 Main Street</td>\n",
       "      <td>New York</td>\n",
       "      <td>NY</td>\n",
       "      <td>12345.0</td>\n",
       "      <td>United States</td>\n",
       "      <td>johndoe@email.com1234567890</td>\n",
       "      <td>1/1/1975</td>\n",
       "      <td>180.0</td>\n",
       "      <td>72</td>\n",
       "      <td>24.4</td>\n",
       "    </tr>\n",
       "    <tr>\n",
       "      <th>249</th>\n",
       "      <td>250</td>\n",
       "      <td>male</td>\n",
       "      <td>Benjamin</td>\n",
       "      <td>Mehler</td>\n",
       "      <td>NaN</td>\n",
       "      <td>NaN</td>\n",
       "      <td>NaN</td>\n",
       "      <td>NaN</td>\n",
       "      <td>NaN</td>\n",
       "      <td>NaN</td>\n",
       "      <td>10/30/1951</td>\n",
       "      <td>146.5</td>\n",
       "      <td>69</td>\n",
       "      <td>21.6</td>\n",
       "    </tr>\n",
       "    <tr>\n",
       "      <th>251</th>\n",
       "      <td>252</td>\n",
       "      <td>male</td>\n",
       "      <td>John</td>\n",
       "      <td>Doe</td>\n",
       "      <td>123 Main Street</td>\n",
       "      <td>New York</td>\n",
       "      <td>NY</td>\n",
       "      <td>12345.0</td>\n",
       "      <td>United States</td>\n",
       "      <td>johndoe@email.com1234567890</td>\n",
       "      <td>1/1/1975</td>\n",
       "      <td>180.0</td>\n",
       "      <td>72</td>\n",
       "      <td>24.4</td>\n",
       "    </tr>\n",
       "    <tr>\n",
       "      <th>257</th>\n",
       "      <td>258</td>\n",
       "      <td>male</td>\n",
       "      <td>Jin</td>\n",
       "      <td>Kung</td>\n",
       "      <td>NaN</td>\n",
       "      <td>NaN</td>\n",
       "      <td>NaN</td>\n",
       "      <td>NaN</td>\n",
       "      <td>NaN</td>\n",
       "      <td>NaN</td>\n",
       "      <td>5/17/1995</td>\n",
       "      <td>231.7</td>\n",
       "      <td>69</td>\n",
       "      <td>34.2</td>\n",
       "    </tr>\n",
       "    <tr>\n",
       "      <th>264</th>\n",
       "      <td>265</td>\n",
       "      <td>female</td>\n",
       "      <td>Wafiyyah</td>\n",
       "      <td>Asfour</td>\n",
       "      <td>NaN</td>\n",
       "      <td>NaN</td>\n",
       "      <td>NaN</td>\n",
       "      <td>NaN</td>\n",
       "      <td>NaN</td>\n",
       "      <td>NaN</td>\n",
       "      <td>11/3/1989</td>\n",
       "      <td>158.6</td>\n",
       "      <td>63</td>\n",
       "      <td>28.1</td>\n",
       "    </tr>\n",
       "    <tr>\n",
       "      <th>269</th>\n",
       "      <td>270</td>\n",
       "      <td>female</td>\n",
       "      <td>Flavia</td>\n",
       "      <td>Fiorentino</td>\n",
       "      <td>NaN</td>\n",
       "      <td>NaN</td>\n",
       "      <td>NaN</td>\n",
       "      <td>NaN</td>\n",
       "      <td>NaN</td>\n",
       "      <td>NaN</td>\n",
       "      <td>10/9/1937</td>\n",
       "      <td>175.2</td>\n",
       "      <td>61</td>\n",
       "      <td>33.1</td>\n",
       "    </tr>\n",
       "    <tr>\n",
       "      <th>277</th>\n",
       "      <td>278</td>\n",
       "      <td>male</td>\n",
       "      <td>John</td>\n",
       "      <td>Doe</td>\n",
       "      <td>123 Main Street</td>\n",
       "      <td>New York</td>\n",
       "      <td>NY</td>\n",
       "      <td>12345.0</td>\n",
       "      <td>United States</td>\n",
       "      <td>johndoe@email.com1234567890</td>\n",
       "      <td>1/1/1975</td>\n",
       "      <td>180.0</td>\n",
       "      <td>72</td>\n",
       "      <td>24.4</td>\n",
       "    </tr>\n",
       "    <tr>\n",
       "      <th>278</th>\n",
       "      <td>279</td>\n",
       "      <td>female</td>\n",
       "      <td>Generosa</td>\n",
       "      <td>Cabán</td>\n",
       "      <td>NaN</td>\n",
       "      <td>NaN</td>\n",
       "      <td>NaN</td>\n",
       "      <td>NaN</td>\n",
       "      <td>NaN</td>\n",
       "      <td>NaN</td>\n",
       "      <td>12/16/1962</td>\n",
       "      <td>124.3</td>\n",
       "      <td>69</td>\n",
       "      <td>18.4</td>\n",
       "    </tr>\n",
       "    <tr>\n",
       "      <th>282</th>\n",
       "      <td>283</td>\n",
       "      <td>female</td>\n",
       "      <td>Sandy</td>\n",
       "      <td>Taylor</td>\n",
       "      <td>2476 Fulton Street</td>\n",
       "      <td>Rainelle</td>\n",
       "      <td>WV</td>\n",
       "      <td>25962.0</td>\n",
       "      <td>United States</td>\n",
       "      <td>304-438-2648SandraCTaylor@dayrep.com</td>\n",
       "      <td>10/23/1960</td>\n",
       "      <td>206.1</td>\n",
       "      <td>64</td>\n",
       "      <td>35.4</td>\n",
       "    </tr>\n",
       "    <tr>\n",
       "      <th>286</th>\n",
       "      <td>287</td>\n",
       "      <td>male</td>\n",
       "      <td>Lewis</td>\n",
       "      <td>Webb</td>\n",
       "      <td>NaN</td>\n",
       "      <td>NaN</td>\n",
       "      <td>NaN</td>\n",
       "      <td>NaN</td>\n",
       "      <td>NaN</td>\n",
       "      <td>NaN</td>\n",
       "      <td>4/1/1979</td>\n",
       "      <td>155.3</td>\n",
       "      <td>68</td>\n",
       "      <td>23.6</td>\n",
       "    </tr>\n",
       "    <tr>\n",
       "      <th>296</th>\n",
       "      <td>297</td>\n",
       "      <td>female</td>\n",
       "      <td>Chỉ</td>\n",
       "      <td>Lâm</td>\n",
       "      <td>NaN</td>\n",
       "      <td>NaN</td>\n",
       "      <td>NaN</td>\n",
       "      <td>NaN</td>\n",
       "      <td>NaN</td>\n",
       "      <td>NaN</td>\n",
       "      <td>5/14/1990</td>\n",
       "      <td>181.1</td>\n",
       "      <td>63</td>\n",
       "      <td>32.1</td>\n",
       "    </tr>\n",
       "    <tr>\n",
       "      <th>502</th>\n",
       "      <td>503</td>\n",
       "      <td>male</td>\n",
       "      <td>Pat</td>\n",
       "      <td>Gersten</td>\n",
       "      <td>2778 North Avenue</td>\n",
       "      <td>Burr</td>\n",
       "      <td>Nebraska</td>\n",
       "      <td>68324.0</td>\n",
       "      <td>United States</td>\n",
       "      <td>PatrickGersten@rhyta.com402-848-4923</td>\n",
       "      <td>5/3/1954</td>\n",
       "      <td>138.2</td>\n",
       "      <td>71</td>\n",
       "      <td>19.3</td>\n",
       "    </tr>\n",
       "  </tbody>\n",
       "</table>\n",
       "</div>"
      ],
      "text/plain": [
       "     patient_id assigned_sex given_name     surname             address  \\\n",
       "29           30         male       Jake    Jakobsen   648 Old Dear Lane   \n",
       "219         220         male         Mỹ       Quynh                 NaN   \n",
       "229         230         male       John         Doe     123 Main Street   \n",
       "230         231       female  Elisabeth     Knudsen                 NaN   \n",
       "234         235       female    Martina   Tománková                 NaN   \n",
       "237         238         male       John         Doe     123 Main Street   \n",
       "242         243         male       John     O'Brian                 NaN   \n",
       "244         245         male       John         Doe     123 Main Street   \n",
       "249         250         male   Benjamin      Mehler                 NaN   \n",
       "251         252         male       John         Doe     123 Main Street   \n",
       "257         258         male        Jin        Kung                 NaN   \n",
       "264         265       female   Wafiyyah      Asfour                 NaN   \n",
       "269         270       female     Flavia  Fiorentino                 NaN   \n",
       "277         278         male       John         Doe     123 Main Street   \n",
       "278         279       female   Generosa       Cabán                 NaN   \n",
       "282         283       female      Sandy      Taylor  2476 Fulton Street   \n",
       "286         287         male      Lewis        Webb                 NaN   \n",
       "296         297       female        Chỉ         Lâm                 NaN   \n",
       "502         503         male        Pat     Gersten   2778 North Avenue   \n",
       "\n",
       "            city     state  zip_code        country  \\\n",
       "29   Port Jervis  New York   12771.0  United States   \n",
       "219          NaN       NaN       NaN            NaN   \n",
       "229     New York        NY   12345.0  United States   \n",
       "230          NaN       NaN       NaN            NaN   \n",
       "234          NaN       NaN       NaN            NaN   \n",
       "237     New York        NY   12345.0  United States   \n",
       "242          NaN       NaN       NaN            NaN   \n",
       "244     New York        NY   12345.0  United States   \n",
       "249          NaN       NaN       NaN            NaN   \n",
       "251     New York        NY   12345.0  United States   \n",
       "257          NaN       NaN       NaN            NaN   \n",
       "264          NaN       NaN       NaN            NaN   \n",
       "269          NaN       NaN       NaN            NaN   \n",
       "277     New York        NY   12345.0  United States   \n",
       "278          NaN       NaN       NaN            NaN   \n",
       "282     Rainelle        WV   25962.0  United States   \n",
       "286          NaN       NaN       NaN            NaN   \n",
       "296          NaN       NaN       NaN            NaN   \n",
       "502         Burr  Nebraska   68324.0  United States   \n",
       "\n",
       "                                        contact   birthdate  weight  height  \\\n",
       "29   JakobCJakobsen@einrot.com+1 (845) 858-7707    8/1/1985   155.8      67   \n",
       "219                                         NaN    4/9/1978   237.8      69   \n",
       "229                 johndoe@email.com1234567890    1/1/1975   180.0      72   \n",
       "230                                         NaN   9/23/1976   165.9      63   \n",
       "234                                         NaN    4/7/1936   199.5      65   \n",
       "237                 johndoe@email.com1234567890    1/1/1975   180.0      72   \n",
       "242                                         NaN   2/25/1957   205.3      74   \n",
       "244                 johndoe@email.com1234567890    1/1/1975   180.0      72   \n",
       "249                                         NaN  10/30/1951   146.5      69   \n",
       "251                 johndoe@email.com1234567890    1/1/1975   180.0      72   \n",
       "257                                         NaN   5/17/1995   231.7      69   \n",
       "264                                         NaN   11/3/1989   158.6      63   \n",
       "269                                         NaN   10/9/1937   175.2      61   \n",
       "277                 johndoe@email.com1234567890    1/1/1975   180.0      72   \n",
       "278                                         NaN  12/16/1962   124.3      69   \n",
       "282        304-438-2648SandraCTaylor@dayrep.com  10/23/1960   206.1      64   \n",
       "286                                         NaN    4/1/1979   155.3      68   \n",
       "296                                         NaN   5/14/1990   181.1      63   \n",
       "502        PatrickGersten@rhyta.com402-848-4923    5/3/1954   138.2      71   \n",
       "\n",
       "      bmi  \n",
       "29   24.4  \n",
       "219  35.1  \n",
       "229  24.4  \n",
       "230  29.4  \n",
       "234  33.2  \n",
       "237  24.4  \n",
       "242  26.4  \n",
       "244  24.4  \n",
       "249  21.6  \n",
       "251  24.4  \n",
       "257  34.2  \n",
       "264  28.1  \n",
       "269  33.1  \n",
       "277  24.4  \n",
       "278  18.4  \n",
       "282  35.4  \n",
       "286  23.6  \n",
       "296  32.1  \n",
       "502  19.3  "
      ]
     },
     "execution_count": 7,
     "metadata": {},
     "output_type": "execute_result"
    }
   ],
   "source": [
    "# filter out duplicated address\n",
    "patient_df[patient_df['address'].duplicated()]"
   ]
  },
  {
   "cell_type": "markdown",
   "metadata": {},
   "source": [
    "#### Treatments table"
   ]
  },
  {
   "cell_type": "code",
   "execution_count": 8,
   "metadata": {},
   "outputs": [
    {
     "data": {
      "text/html": [
       "<div>\n",
       "<style scoped>\n",
       "    .dataframe tbody tr th:only-of-type {\n",
       "        vertical-align: middle;\n",
       "    }\n",
       "\n",
       "    .dataframe tbody tr th {\n",
       "        vertical-align: top;\n",
       "    }\n",
       "\n",
       "    .dataframe thead th {\n",
       "        text-align: right;\n",
       "    }\n",
       "</style>\n",
       "<table border=\"1\" class=\"dataframe\">\n",
       "  <thead>\n",
       "    <tr style=\"text-align: right;\">\n",
       "      <th></th>\n",
       "      <th>given_name</th>\n",
       "      <th>surname</th>\n",
       "      <th>auralin</th>\n",
       "      <th>novodra</th>\n",
       "      <th>hba1c_start</th>\n",
       "      <th>hba1c_end</th>\n",
       "      <th>hba1c_change</th>\n",
       "    </tr>\n",
       "  </thead>\n",
       "  <tbody>\n",
       "    <tr>\n",
       "      <th>0</th>\n",
       "      <td>veronika</td>\n",
       "      <td>jindrová</td>\n",
       "      <td>41u - 48u</td>\n",
       "      <td>-</td>\n",
       "      <td>7.63</td>\n",
       "      <td>7.20</td>\n",
       "      <td>NaN</td>\n",
       "    </tr>\n",
       "    <tr>\n",
       "      <th>1</th>\n",
       "      <td>elliot</td>\n",
       "      <td>richardson</td>\n",
       "      <td>-</td>\n",
       "      <td>40u - 45u</td>\n",
       "      <td>7.56</td>\n",
       "      <td>7.09</td>\n",
       "      <td>0.97</td>\n",
       "    </tr>\n",
       "    <tr>\n",
       "      <th>2</th>\n",
       "      <td>yukitaka</td>\n",
       "      <td>takenaka</td>\n",
       "      <td>-</td>\n",
       "      <td>39u - 36u</td>\n",
       "      <td>7.68</td>\n",
       "      <td>7.25</td>\n",
       "      <td>NaN</td>\n",
       "    </tr>\n",
       "    <tr>\n",
       "      <th>3</th>\n",
       "      <td>skye</td>\n",
       "      <td>gormanston</td>\n",
       "      <td>33u - 36u</td>\n",
       "      <td>-</td>\n",
       "      <td>7.97</td>\n",
       "      <td>7.62</td>\n",
       "      <td>0.35</td>\n",
       "    </tr>\n",
       "    <tr>\n",
       "      <th>4</th>\n",
       "      <td>alissa</td>\n",
       "      <td>montez</td>\n",
       "      <td>-</td>\n",
       "      <td>33u - 29u</td>\n",
       "      <td>7.78</td>\n",
       "      <td>7.46</td>\n",
       "      <td>0.32</td>\n",
       "    </tr>\n",
       "  </tbody>\n",
       "</table>\n",
       "</div>"
      ],
      "text/plain": [
       "  given_name     surname    auralin    novodra  hba1c_start  hba1c_end  \\\n",
       "0   veronika    jindrová  41u - 48u          -         7.63       7.20   \n",
       "1     elliot  richardson          -  40u - 45u         7.56       7.09   \n",
       "2   yukitaka    takenaka          -  39u - 36u         7.68       7.25   \n",
       "3       skye  gormanston  33u - 36u          -         7.97       7.62   \n",
       "4     alissa      montez          -  33u - 29u         7.78       7.46   \n",
       "\n",
       "   hba1c_change  \n",
       "0           NaN  \n",
       "1          0.97  \n",
       "2           NaN  \n",
       "3          0.35  \n",
       "4          0.32  "
      ]
     },
     "execution_count": 8,
     "metadata": {},
     "output_type": "execute_result"
    }
   ],
   "source": [
    "# preview data\n",
    "treatment_df.head()"
   ]
  },
  {
   "cell_type": "code",
   "execution_count": 9,
   "metadata": {},
   "outputs": [
    {
     "name": "stdout",
     "output_type": "stream",
     "text": [
      "<class 'pandas.core.frame.DataFrame'>\n",
      "RangeIndex: 280 entries, 0 to 279\n",
      "Data columns (total 7 columns):\n",
      " #   Column        Non-Null Count  Dtype  \n",
      "---  ------        --------------  -----  \n",
      " 0   given_name    280 non-null    object \n",
      " 1   surname       280 non-null    object \n",
      " 2   auralin       280 non-null    object \n",
      " 3   novodra       280 non-null    object \n",
      " 4   hba1c_start   280 non-null    float64\n",
      " 5   hba1c_end     280 non-null    float64\n",
      " 6   hba1c_change  171 non-null    float64\n",
      "dtypes: float64(3), object(4)\n",
      "memory usage: 15.4+ KB\n"
     ]
    }
   ],
   "source": [
    "# data columns information\n",
    "treatment_df.info()"
   ]
  },
  {
   "cell_type": "code",
   "execution_count": 10,
   "metadata": {},
   "outputs": [
    {
     "data": {
      "text/html": [
       "<div>\n",
       "<style scoped>\n",
       "    .dataframe tbody tr th:only-of-type {\n",
       "        vertical-align: middle;\n",
       "    }\n",
       "\n",
       "    .dataframe tbody tr th {\n",
       "        vertical-align: top;\n",
       "    }\n",
       "\n",
       "    .dataframe thead th {\n",
       "        text-align: right;\n",
       "    }\n",
       "</style>\n",
       "<table border=\"1\" class=\"dataframe\">\n",
       "  <thead>\n",
       "    <tr style=\"text-align: right;\">\n",
       "      <th></th>\n",
       "      <th>hba1c_start</th>\n",
       "      <th>hba1c_end</th>\n",
       "      <th>hba1c_change</th>\n",
       "    </tr>\n",
       "  </thead>\n",
       "  <tbody>\n",
       "    <tr>\n",
       "      <th>count</th>\n",
       "      <td>280.000000</td>\n",
       "      <td>280.000000</td>\n",
       "      <td>171.000000</td>\n",
       "    </tr>\n",
       "    <tr>\n",
       "      <th>mean</th>\n",
       "      <td>7.985929</td>\n",
       "      <td>7.589286</td>\n",
       "      <td>0.546023</td>\n",
       "    </tr>\n",
       "    <tr>\n",
       "      <th>std</th>\n",
       "      <td>0.568638</td>\n",
       "      <td>0.569672</td>\n",
       "      <td>0.279555</td>\n",
       "    </tr>\n",
       "    <tr>\n",
       "      <th>min</th>\n",
       "      <td>7.500000</td>\n",
       "      <td>7.010000</td>\n",
       "      <td>0.200000</td>\n",
       "    </tr>\n",
       "    <tr>\n",
       "      <th>25%</th>\n",
       "      <td>7.660000</td>\n",
       "      <td>7.270000</td>\n",
       "      <td>0.340000</td>\n",
       "    </tr>\n",
       "    <tr>\n",
       "      <th>50%</th>\n",
       "      <td>7.800000</td>\n",
       "      <td>7.420000</td>\n",
       "      <td>0.380000</td>\n",
       "    </tr>\n",
       "    <tr>\n",
       "      <th>75%</th>\n",
       "      <td>7.970000</td>\n",
       "      <td>7.570000</td>\n",
       "      <td>0.920000</td>\n",
       "    </tr>\n",
       "    <tr>\n",
       "      <th>max</th>\n",
       "      <td>9.950000</td>\n",
       "      <td>9.580000</td>\n",
       "      <td>0.990000</td>\n",
       "    </tr>\n",
       "  </tbody>\n",
       "</table>\n",
       "</div>"
      ],
      "text/plain": [
       "       hba1c_start   hba1c_end  hba1c_change\n",
       "count   280.000000  280.000000    171.000000\n",
       "mean      7.985929    7.589286      0.546023\n",
       "std       0.568638    0.569672      0.279555\n",
       "min       7.500000    7.010000      0.200000\n",
       "25%       7.660000    7.270000      0.340000\n",
       "50%       7.800000    7.420000      0.380000\n",
       "75%       7.970000    7.570000      0.920000\n",
       "max       9.950000    9.580000      0.990000"
      ]
     },
     "execution_count": 10,
     "metadata": {},
     "output_type": "execute_result"
    }
   ],
   "source": [
    "# summary statistics\n",
    "treatment_df.describe()"
   ]
  },
  {
   "cell_type": "code",
   "execution_count": 11,
   "metadata": {},
   "outputs": [
    {
     "data": {
      "text/plain": [
       "1"
      ]
     },
     "execution_count": 11,
     "metadata": {},
     "output_type": "execute_result"
    }
   ],
   "source": [
    "# sum duplicated values\n",
    "treatment_df.duplicated().sum()"
   ]
  },
  {
   "cell_type": "markdown",
   "metadata": {},
   "source": [
    "#### Adverse Reactions table"
   ]
  },
  {
   "cell_type": "code",
   "execution_count": 12,
   "metadata": {},
   "outputs": [
    {
     "data": {
      "text/html": [
       "<div>\n",
       "<style scoped>\n",
       "    .dataframe tbody tr th:only-of-type {\n",
       "        vertical-align: middle;\n",
       "    }\n",
       "\n",
       "    .dataframe tbody tr th {\n",
       "        vertical-align: top;\n",
       "    }\n",
       "\n",
       "    .dataframe thead th {\n",
       "        text-align: right;\n",
       "    }\n",
       "</style>\n",
       "<table border=\"1\" class=\"dataframe\">\n",
       "  <thead>\n",
       "    <tr style=\"text-align: right;\">\n",
       "      <th></th>\n",
       "      <th>given_name</th>\n",
       "      <th>surname</th>\n",
       "      <th>adverse_reaction</th>\n",
       "    </tr>\n",
       "  </thead>\n",
       "  <tbody>\n",
       "    <tr>\n",
       "      <th>0</th>\n",
       "      <td>berta</td>\n",
       "      <td>napolitani</td>\n",
       "      <td>injection site discomfort</td>\n",
       "    </tr>\n",
       "    <tr>\n",
       "      <th>1</th>\n",
       "      <td>lena</td>\n",
       "      <td>baer</td>\n",
       "      <td>hypoglycemia</td>\n",
       "    </tr>\n",
       "    <tr>\n",
       "      <th>2</th>\n",
       "      <td>joseph</td>\n",
       "      <td>day</td>\n",
       "      <td>hypoglycemia</td>\n",
       "    </tr>\n",
       "    <tr>\n",
       "      <th>3</th>\n",
       "      <td>flavia</td>\n",
       "      <td>fiorentino</td>\n",
       "      <td>cough</td>\n",
       "    </tr>\n",
       "    <tr>\n",
       "      <th>4</th>\n",
       "      <td>manouck</td>\n",
       "      <td>wubbels</td>\n",
       "      <td>throat irritation</td>\n",
       "    </tr>\n",
       "  </tbody>\n",
       "</table>\n",
       "</div>"
      ],
      "text/plain": [
       "  given_name     surname           adverse_reaction\n",
       "0      berta  napolitani  injection site discomfort\n",
       "1       lena        baer               hypoglycemia\n",
       "2     joseph         day               hypoglycemia\n",
       "3     flavia  fiorentino                      cough\n",
       "4    manouck     wubbels          throat irritation"
      ]
     },
     "execution_count": 12,
     "metadata": {},
     "output_type": "execute_result"
    }
   ],
   "source": [
    "# preview data\n",
    "adv_reaction_df.head()"
   ]
  },
  {
   "cell_type": "code",
   "execution_count": 13,
   "metadata": {},
   "outputs": [
    {
     "name": "stdout",
     "output_type": "stream",
     "text": [
      "<class 'pandas.core.frame.DataFrame'>\n",
      "RangeIndex: 34 entries, 0 to 33\n",
      "Data columns (total 3 columns):\n",
      " #   Column            Non-Null Count  Dtype \n",
      "---  ------            --------------  ----- \n",
      " 0   given_name        34 non-null     object\n",
      " 1   surname           34 non-null     object\n",
      " 2   adverse_reaction  34 non-null     object\n",
      "dtypes: object(3)\n",
      "memory usage: 944.0+ bytes\n"
     ]
    }
   ],
   "source": [
    "# data columns information\n",
    "adv_reaction_df.info()"
   ]
  },
  {
   "cell_type": "code",
   "execution_count": 14,
   "metadata": {},
   "outputs": [
    {
     "data": {
      "text/plain": [
       "0"
      ]
     },
     "execution_count": 14,
     "metadata": {},
     "output_type": "execute_result"
    }
   ],
   "source": [
    "# sum duplicated values\n",
    "adv_reaction_df.duplicated().sum()"
   ]
  },
  {
   "cell_type": "markdown",
   "metadata": {},
   "source": [
    "### Data Quality Issues\n",
    "\n",
    "#### Patients table\n",
    "- Inconsistent data in the zip code column.  Zip code should be string not float\n",
    "- Height column: `Tim Neudorf` height is 27 inches instead of 72 inches\n",
    "- Default John Doe data\n",
    "- Given name column: Inaccurate data for `Dsvid` instead of `David`\n",
    "- State column: Inconsistent data, using full and abbreviation names.\n",
    "- Data type issue: assigned sex, state, zip code and birthdate columns. \n",
    "- Multiple phone numbers format.\n",
    "- Multiple records for Jakobsen, Taylor, Gersten.\n",
    "- kgs instead of lbs for Zaitseva weight.\n",
    "- Null values in address,city, state, zip code, country, and contact columns.\n",
    "\n",
    "#### Treatments\n",
    "- Missing values in hba1c change column.\n",
    "- Invalid data in auralin and novodra columns.\n",
    "- lowercase given name and surname.\n",
    "- Missing records: 280 records instead of 350 records.\n",
    "- Data type issue: auralin and novodra columns\n",
    "- Inaccurate data in hbalc change column (0.4s mistaken as 0.9s)\n",
    "- Nulls represented as dashes (-) in auralin and novodra columns.\n",
    "\n",
    "#### Adverse reactions table\n",
    "- lowercase given name and surname\n",
    "\n",
    "\n",
    "### Tidiness Issues\n",
    "- Contact column in `patients` table should be split into phone number and email\n",
    "- Three variables in two columns in `treatments` table (treatment, start dose and end dose)\n",
    "- Adverse reaction should be part of the `treatments` table\n",
    "- Given name and surname columns in `patients` table duplicated in treatments and adverse_reactions tables"
   ]
  },
  {
   "cell_type": "markdown",
   "metadata": {},
   "source": [
    "### Clean\n",
    "In this section, the quality and tidiness issues are cleaned for better analysis and visualization."
   ]
  },
  {
   "cell_type": "code",
   "execution_count": 15,
   "metadata": {},
   "outputs": [],
   "source": [
    "# copy of the datasets\n",
    "\n",
    "patients_clean = patient_df.copy()\n",
    "adv_reactions_clean = adv_reaction_df.copy()\n",
    "treatments_clean = treatment_df.copy()"
   ]
  },
  {
   "cell_type": "markdown",
   "metadata": {},
   "source": [
    "### Missing Data"
   ]
  },
  {
   "cell_type": "markdown",
   "metadata": {},
   "source": [
    "#### Treatments\n",
    "- Missing records: 280 records instead of 350 records."
   ]
  },
  {
   "cell_type": "markdown",
   "metadata": {},
   "source": [
    "#### Define"
   ]
  },
  {
   "cell_type": "markdown",
   "metadata": {},
   "source": [
    "- Import and assess the missing treatments_cut records into a dataframe.\n",
    "- Concatenate the treatments records with the missing treatments_cut records to get the 350 records."
   ]
  },
  {
   "cell_type": "markdown",
   "metadata": {},
   "source": [
    "#### Code"
   ]
  },
  {
   "cell_type": "code",
   "execution_count": 16,
   "metadata": {},
   "outputs": [
    {
     "data": {
      "text/html": [
       "<div>\n",
       "<style scoped>\n",
       "    .dataframe tbody tr th:only-of-type {\n",
       "        vertical-align: middle;\n",
       "    }\n",
       "\n",
       "    .dataframe tbody tr th {\n",
       "        vertical-align: top;\n",
       "    }\n",
       "\n",
       "    .dataframe thead th {\n",
       "        text-align: right;\n",
       "    }\n",
       "</style>\n",
       "<table border=\"1\" class=\"dataframe\">\n",
       "  <thead>\n",
       "    <tr style=\"text-align: right;\">\n",
       "      <th></th>\n",
       "      <th>given_name</th>\n",
       "      <th>surname</th>\n",
       "      <th>auralin</th>\n",
       "      <th>novodra</th>\n",
       "      <th>hba1c_start</th>\n",
       "      <th>hba1c_end</th>\n",
       "      <th>hba1c_change</th>\n",
       "    </tr>\n",
       "  </thead>\n",
       "  <tbody>\n",
       "    <tr>\n",
       "      <th>0</th>\n",
       "      <td>jožka</td>\n",
       "      <td>resanovič</td>\n",
       "      <td>22u - 30u</td>\n",
       "      <td>-</td>\n",
       "      <td>7.56</td>\n",
       "      <td>7.22</td>\n",
       "      <td>0.34</td>\n",
       "    </tr>\n",
       "    <tr>\n",
       "      <th>1</th>\n",
       "      <td>inunnguaq</td>\n",
       "      <td>heilmann</td>\n",
       "      <td>57u - 67u</td>\n",
       "      <td>-</td>\n",
       "      <td>7.85</td>\n",
       "      <td>7.45</td>\n",
       "      <td>NaN</td>\n",
       "    </tr>\n",
       "    <tr>\n",
       "      <th>2</th>\n",
       "      <td>alwin</td>\n",
       "      <td>svensson</td>\n",
       "      <td>36u - 39u</td>\n",
       "      <td>-</td>\n",
       "      <td>7.78</td>\n",
       "      <td>7.34</td>\n",
       "      <td>NaN</td>\n",
       "    </tr>\n",
       "    <tr>\n",
       "      <th>3</th>\n",
       "      <td>thể</td>\n",
       "      <td>lương</td>\n",
       "      <td>-</td>\n",
       "      <td>61u - 64u</td>\n",
       "      <td>7.64</td>\n",
       "      <td>7.22</td>\n",
       "      <td>0.92</td>\n",
       "    </tr>\n",
       "    <tr>\n",
       "      <th>4</th>\n",
       "      <td>amanda</td>\n",
       "      <td>ribeiro</td>\n",
       "      <td>36u - 44u</td>\n",
       "      <td>-</td>\n",
       "      <td>7.85</td>\n",
       "      <td>7.47</td>\n",
       "      <td>0.38</td>\n",
       "    </tr>\n",
       "  </tbody>\n",
       "</table>\n",
       "</div>"
      ],
      "text/plain": [
       "  given_name    surname    auralin    novodra  hba1c_start  hba1c_end  \\\n",
       "0      jožka  resanovič  22u - 30u          -         7.56       7.22   \n",
       "1  inunnguaq   heilmann  57u - 67u          -         7.85       7.45   \n",
       "2      alwin   svensson  36u - 39u          -         7.78       7.34   \n",
       "3        thể      lương          -  61u - 64u         7.64       7.22   \n",
       "4     amanda    ribeiro  36u - 44u          -         7.85       7.47   \n",
       "\n",
       "   hba1c_change  \n",
       "0          0.34  \n",
       "1           NaN  \n",
       "2           NaN  \n",
       "3          0.92  \n",
       "4          0.38  "
      ]
     },
     "execution_count": 16,
     "metadata": {},
     "output_type": "execute_result"
    }
   ],
   "source": [
    "# Import and assess the missing treatments_cut records into a dataframe.\n",
    "treatments_cut = pd.read_csv('treatments_cut.csv')\n",
    "treatments_cut.head()"
   ]
  },
  {
   "cell_type": "code",
   "execution_count": 17,
   "metadata": {},
   "outputs": [],
   "source": [
    "# Concatenate the treatments records with the missing treatments_cut records.\n",
    "treatments_clean = pd.concat([treatments_clean, treatments_cut],ignore_index=True)"
   ]
  },
  {
   "cell_type": "markdown",
   "metadata": {},
   "source": [
    "#### Test"
   ]
  },
  {
   "cell_type": "code",
   "execution_count": 18,
   "metadata": {},
   "outputs": [
    {
     "name": "stdout",
     "output_type": "stream",
     "text": [
      "<class 'pandas.core.frame.DataFrame'>\n",
      "RangeIndex: 350 entries, 0 to 349\n",
      "Data columns (total 7 columns):\n",
      " #   Column        Non-Null Count  Dtype  \n",
      "---  ------        --------------  -----  \n",
      " 0   given_name    350 non-null    object \n",
      " 1   surname       350 non-null    object \n",
      " 2   auralin       350 non-null    object \n",
      " 3   novodra       350 non-null    object \n",
      " 4   hba1c_start   350 non-null    float64\n",
      " 5   hba1c_end     350 non-null    float64\n",
      " 6   hba1c_change  213 non-null    float64\n",
      "dtypes: float64(3), object(4)\n",
      "memory usage: 19.3+ KB\n"
     ]
    }
   ],
   "source": [
    "treatments_clean.info()"
   ]
  },
  {
   "cell_type": "markdown",
   "metadata": {},
   "source": [
    "#### Treatments\n",
    "- Missing values in hba1c change column.\n",
    "- Inaccurate data in hbalc change column (0.4s mistaken as 0.9s)"
   ]
  },
  {
   "cell_type": "markdown",
   "metadata": {},
   "source": [
    "#### Define"
   ]
  },
  {
   "cell_type": "markdown",
   "metadata": {},
   "source": [
    "- Recalculate the hbalc change column"
   ]
  },
  {
   "cell_type": "markdown",
   "metadata": {},
   "source": [
    "#### Code"
   ]
  },
  {
   "cell_type": "code",
   "execution_count": 19,
   "metadata": {},
   "outputs": [],
   "source": [
    "# substract hba1c_end from hba1c_start\n",
    "treatments_clean['hba1c_change'] = treatments_clean['hba1c_start'] - treatments_clean['hba1c_end']"
   ]
  },
  {
   "cell_type": "markdown",
   "metadata": {},
   "source": [
    "#### Test"
   ]
  },
  {
   "cell_type": "code",
   "execution_count": 20,
   "metadata": {},
   "outputs": [
    {
     "data": {
      "text/html": [
       "<div>\n",
       "<style scoped>\n",
       "    .dataframe tbody tr th:only-of-type {\n",
       "        vertical-align: middle;\n",
       "    }\n",
       "\n",
       "    .dataframe tbody tr th {\n",
       "        vertical-align: top;\n",
       "    }\n",
       "\n",
       "    .dataframe thead th {\n",
       "        text-align: right;\n",
       "    }\n",
       "</style>\n",
       "<table border=\"1\" class=\"dataframe\">\n",
       "  <thead>\n",
       "    <tr style=\"text-align: right;\">\n",
       "      <th></th>\n",
       "      <th>given_name</th>\n",
       "      <th>surname</th>\n",
       "      <th>auralin</th>\n",
       "      <th>novodra</th>\n",
       "      <th>hba1c_start</th>\n",
       "      <th>hba1c_end</th>\n",
       "      <th>hba1c_change</th>\n",
       "    </tr>\n",
       "  </thead>\n",
       "  <tbody>\n",
       "    <tr>\n",
       "      <th>0</th>\n",
       "      <td>veronika</td>\n",
       "      <td>jindrová</td>\n",
       "      <td>41u - 48u</td>\n",
       "      <td>-</td>\n",
       "      <td>7.63</td>\n",
       "      <td>7.20</td>\n",
       "      <td>0.43</td>\n",
       "    </tr>\n",
       "    <tr>\n",
       "      <th>1</th>\n",
       "      <td>elliot</td>\n",
       "      <td>richardson</td>\n",
       "      <td>-</td>\n",
       "      <td>40u - 45u</td>\n",
       "      <td>7.56</td>\n",
       "      <td>7.09</td>\n",
       "      <td>0.47</td>\n",
       "    </tr>\n",
       "    <tr>\n",
       "      <th>2</th>\n",
       "      <td>yukitaka</td>\n",
       "      <td>takenaka</td>\n",
       "      <td>-</td>\n",
       "      <td>39u - 36u</td>\n",
       "      <td>7.68</td>\n",
       "      <td>7.25</td>\n",
       "      <td>0.43</td>\n",
       "    </tr>\n",
       "    <tr>\n",
       "      <th>3</th>\n",
       "      <td>skye</td>\n",
       "      <td>gormanston</td>\n",
       "      <td>33u - 36u</td>\n",
       "      <td>-</td>\n",
       "      <td>7.97</td>\n",
       "      <td>7.62</td>\n",
       "      <td>0.35</td>\n",
       "    </tr>\n",
       "    <tr>\n",
       "      <th>4</th>\n",
       "      <td>alissa</td>\n",
       "      <td>montez</td>\n",
       "      <td>-</td>\n",
       "      <td>33u - 29u</td>\n",
       "      <td>7.78</td>\n",
       "      <td>7.46</td>\n",
       "      <td>0.32</td>\n",
       "    </tr>\n",
       "  </tbody>\n",
       "</table>\n",
       "</div>"
      ],
      "text/plain": [
       "  given_name     surname    auralin    novodra  hba1c_start  hba1c_end  \\\n",
       "0   veronika    jindrová  41u - 48u          -         7.63       7.20   \n",
       "1     elliot  richardson          -  40u - 45u         7.56       7.09   \n",
       "2   yukitaka    takenaka          -  39u - 36u         7.68       7.25   \n",
       "3       skye  gormanston  33u - 36u          -         7.97       7.62   \n",
       "4     alissa      montez          -  33u - 29u         7.78       7.46   \n",
       "\n",
       "   hba1c_change  \n",
       "0          0.43  \n",
       "1          0.47  \n",
       "2          0.43  \n",
       "3          0.35  \n",
       "4          0.32  "
      ]
     },
     "execution_count": 20,
     "metadata": {},
     "output_type": "execute_result"
    }
   ],
   "source": [
    "treatments_clean.head()"
   ]
  },
  {
   "cell_type": "markdown",
   "metadata": {},
   "source": [
    "### Tidiness issue"
   ]
  },
  {
   "cell_type": "markdown",
   "metadata": {},
   "source": [
    "- Contact column in patients table should be split into phone number and email."
   ]
  },
  {
   "cell_type": "markdown",
   "metadata": {},
   "source": [
    "#### Define"
   ]
  },
  {
   "cell_type": "markdown",
   "metadata": {},
   "source": [
    "- `patients table`: Create new columns 'phone number' and 'email' by using regular expression to extract the phone number and email values from the contact column respectively\n",
    "- Drop the contact column."
   ]
  },
  {
   "cell_type": "markdown",
   "metadata": {},
   "source": [
    "#### Code"
   ]
  },
  {
   "cell_type": "code",
   "execution_count": 21,
   "metadata": {},
   "outputs": [],
   "source": [
    "patients_clean['phone_no'] = patients_clean.contact.str.extract('(\\+?1?[\\s-]?\\(?\\d{3}\\)?[\\s-]\\d{3}[\\s-]\\d{4})', expand=True)\n",
    "patients_clean['email'] = patients_clean.contact.str.extract('([a-zA-Z][a-zA-Z0-9_.]+@\\w+\\.\\w+)', expand=True)\n",
    "\n",
    "# drop contact column\n",
    "patients_clean = patients_clean.drop('contact', axis=1)"
   ]
  },
  {
   "cell_type": "markdown",
   "metadata": {},
   "source": [
    "#### Test"
   ]
  },
  {
   "cell_type": "code",
   "execution_count": 22,
   "metadata": {},
   "outputs": [
    {
     "data": {
      "text/plain": [
       "404            AaliyahRice@dayrep.com409\n",
       "332               AbelEfrem@fleckens.hu1\n",
       "258             AbelYonatan@teleworm.us1\n",
       "305    AddolorataLombardi@jourrapide.com\n",
       "118         AdibMutazzGhanem@fleckens.hu\n",
       "Name: email, dtype: object"
      ]
     },
     "execution_count": 22,
     "metadata": {},
     "output_type": "execute_result"
    }
   ],
   "source": [
    "patients_clean['email'].sort_values().head()"
   ]
  },
  {
   "cell_type": "code",
   "execution_count": 23,
   "metadata": {},
   "outputs": [
    {
     "data": {
      "text/plain": [
       "Index(['patient_id', 'assigned_sex', 'given_name', 'surname', 'address',\n",
       "       'city', 'state', 'zip_code', 'country', 'birthdate', 'weight', 'height',\n",
       "       'bmi', 'phone_no', 'email'],\n",
       "      dtype='object')"
      ]
     },
     "execution_count": 23,
     "metadata": {},
     "output_type": "execute_result"
    }
   ],
   "source": [
    "# list of patients column\n",
    "patients_clean.columns"
   ]
  },
  {
   "cell_type": "markdown",
   "metadata": {},
   "source": [
    "#### `treatments`: Three variables in two columns in treatments table (treatment, start dose and end dose)"
   ]
  },
  {
   "cell_type": "markdown",
   "metadata": {},
   "source": [
    "#### Define"
   ]
  },
  {
   "cell_type": "markdown",
   "metadata": {},
   "source": [
    "- Use pandas 'melt' to melt the auralin and novodra columns into treatments and dose columns\n",
    "- Split the dose column into dose_start and dose_end using 'str.split'\n",
    "- Drop the dose column."
   ]
  },
  {
   "cell_type": "markdown",
   "metadata": {},
   "source": [
    "#### Code"
   ]
  },
  {
   "cell_type": "code",
   "execution_count": 24,
   "metadata": {},
   "outputs": [],
   "source": [
    "# melt the auralin and novodra columns\n",
    "treatments_clean = pd.melt(treatments_clean, id_vars = ['given_name', 'surname','hba1c_start',\n",
    "       'hba1c_end', 'hba1c_change'], var_name = 'treatment',value_name = 'dose', ignore_index = False )\n",
    "# filter out dash values '-'\n",
    "treatments_clean = treatments_clean[treatments_clean['dose']  != '-']"
   ]
  },
  {
   "cell_type": "code",
   "execution_count": 25,
   "metadata": {},
   "outputs": [],
   "source": [
    "# split the dose column\n",
    "treatments_clean[['dose_start', 'dose_end']] = treatments_clean['dose'].str.split('-', expand=True)"
   ]
  },
  {
   "cell_type": "code",
   "execution_count": 26,
   "metadata": {},
   "outputs": [],
   "source": [
    "# drop dose column\n",
    "treatments_clean.drop('dose', axis=1, inplace=True)"
   ]
  },
  {
   "cell_type": "markdown",
   "metadata": {},
   "source": [
    "#### Test"
   ]
  },
  {
   "cell_type": "code",
   "execution_count": 27,
   "metadata": {},
   "outputs": [
    {
     "name": "stdout",
     "output_type": "stream",
     "text": [
      "<class 'pandas.core.frame.DataFrame'>\n",
      "Index: 350 entries, 0 to 348\n",
      "Data columns (total 8 columns):\n",
      " #   Column        Non-Null Count  Dtype  \n",
      "---  ------        --------------  -----  \n",
      " 0   given_name    350 non-null    object \n",
      " 1   surname       350 non-null    object \n",
      " 2   hba1c_start   350 non-null    float64\n",
      " 3   hba1c_end     350 non-null    float64\n",
      " 4   hba1c_change  350 non-null    float64\n",
      " 5   treatment     350 non-null    object \n",
      " 6   dose_start    350 non-null    object \n",
      " 7   dose_end      350 non-null    object \n",
      "dtypes: float64(3), object(5)\n",
      "memory usage: 24.6+ KB\n"
     ]
    }
   ],
   "source": [
    "treatments_clean.info()"
   ]
  },
  {
   "cell_type": "code",
   "execution_count": 28,
   "metadata": {},
   "outputs": [
    {
     "data": {
      "text/html": [
       "<div>\n",
       "<style scoped>\n",
       "    .dataframe tbody tr th:only-of-type {\n",
       "        vertical-align: middle;\n",
       "    }\n",
       "\n",
       "    .dataframe tbody tr th {\n",
       "        vertical-align: top;\n",
       "    }\n",
       "\n",
       "    .dataframe thead th {\n",
       "        text-align: right;\n",
       "    }\n",
       "</style>\n",
       "<table border=\"1\" class=\"dataframe\">\n",
       "  <thead>\n",
       "    <tr style=\"text-align: right;\">\n",
       "      <th></th>\n",
       "      <th>given_name</th>\n",
       "      <th>surname</th>\n",
       "      <th>hba1c_start</th>\n",
       "      <th>hba1c_end</th>\n",
       "      <th>hba1c_change</th>\n",
       "      <th>treatment</th>\n",
       "      <th>dose_start</th>\n",
       "      <th>dose_end</th>\n",
       "    </tr>\n",
       "  </thead>\n",
       "  <tbody>\n",
       "    <tr>\n",
       "      <th>0</th>\n",
       "      <td>veronika</td>\n",
       "      <td>jindrová</td>\n",
       "      <td>7.63</td>\n",
       "      <td>7.20</td>\n",
       "      <td>0.43</td>\n",
       "      <td>auralin</td>\n",
       "      <td>41u</td>\n",
       "      <td>48u</td>\n",
       "    </tr>\n",
       "    <tr>\n",
       "      <th>3</th>\n",
       "      <td>skye</td>\n",
       "      <td>gormanston</td>\n",
       "      <td>7.97</td>\n",
       "      <td>7.62</td>\n",
       "      <td>0.35</td>\n",
       "      <td>auralin</td>\n",
       "      <td>33u</td>\n",
       "      <td>36u</td>\n",
       "    </tr>\n",
       "    <tr>\n",
       "      <th>6</th>\n",
       "      <td>sophia</td>\n",
       "      <td>haugen</td>\n",
       "      <td>7.65</td>\n",
       "      <td>7.27</td>\n",
       "      <td>0.38</td>\n",
       "      <td>auralin</td>\n",
       "      <td>37u</td>\n",
       "      <td>42u</td>\n",
       "    </tr>\n",
       "    <tr>\n",
       "      <th>7</th>\n",
       "      <td>eddie</td>\n",
       "      <td>archer</td>\n",
       "      <td>7.89</td>\n",
       "      <td>7.55</td>\n",
       "      <td>0.34</td>\n",
       "      <td>auralin</td>\n",
       "      <td>31u</td>\n",
       "      <td>38u</td>\n",
       "    </tr>\n",
       "    <tr>\n",
       "      <th>9</th>\n",
       "      <td>asia</td>\n",
       "      <td>woźniak</td>\n",
       "      <td>7.76</td>\n",
       "      <td>7.37</td>\n",
       "      <td>0.39</td>\n",
       "      <td>auralin</td>\n",
       "      <td>30u</td>\n",
       "      <td>36u</td>\n",
       "    </tr>\n",
       "  </tbody>\n",
       "</table>\n",
       "</div>"
      ],
      "text/plain": [
       "  given_name     surname  hba1c_start  hba1c_end  hba1c_change treatment  \\\n",
       "0   veronika    jindrová         7.63       7.20          0.43   auralin   \n",
       "3       skye  gormanston         7.97       7.62          0.35   auralin   \n",
       "6     sophia      haugen         7.65       7.27          0.38   auralin   \n",
       "7      eddie      archer         7.89       7.55          0.34   auralin   \n",
       "9       asia     woźniak         7.76       7.37          0.39   auralin   \n",
       "\n",
       "  dose_start dose_end  \n",
       "0       41u       48u  \n",
       "3       33u       36u  \n",
       "6       37u       42u  \n",
       "7       31u       38u  \n",
       "9       30u       36u  "
      ]
     },
     "execution_count": 28,
     "metadata": {},
     "output_type": "execute_result"
    }
   ],
   "source": [
    "treatments_clean.head()"
   ]
  },
  {
   "cell_type": "markdown",
   "metadata": {},
   "source": [
    "#### `treatments`: Adverse reaction should be part of the treatments table"
   ]
  },
  {
   "cell_type": "markdown",
   "metadata": {},
   "source": [
    "#### Define"
   ]
  },
  {
   "cell_type": "markdown",
   "metadata": {},
   "source": [
    "- Merge treatments and adverse reaction table join on given name and surname columns"
   ]
  },
  {
   "cell_type": "markdown",
   "metadata": {},
   "source": [
    "#### Code"
   ]
  },
  {
   "cell_type": "code",
   "execution_count": 29,
   "metadata": {},
   "outputs": [],
   "source": [
    "treatments_clean = pd.merge(treatments_clean, adv_reactions_clean, on = ['given_name', 'surname'], how='left')"
   ]
  },
  {
   "cell_type": "markdown",
   "metadata": {},
   "source": [
    "\n",
    "#### Test"
   ]
  },
  {
   "cell_type": "code",
   "execution_count": 30,
   "metadata": {},
   "outputs": [
    {
     "data": {
      "text/html": [
       "<div>\n",
       "<style scoped>\n",
       "    .dataframe tbody tr th:only-of-type {\n",
       "        vertical-align: middle;\n",
       "    }\n",
       "\n",
       "    .dataframe tbody tr th {\n",
       "        vertical-align: top;\n",
       "    }\n",
       "\n",
       "    .dataframe thead th {\n",
       "        text-align: right;\n",
       "    }\n",
       "</style>\n",
       "<table border=\"1\" class=\"dataframe\">\n",
       "  <thead>\n",
       "    <tr style=\"text-align: right;\">\n",
       "      <th></th>\n",
       "      <th>given_name</th>\n",
       "      <th>surname</th>\n",
       "      <th>hba1c_start</th>\n",
       "      <th>hba1c_end</th>\n",
       "      <th>hba1c_change</th>\n",
       "      <th>treatment</th>\n",
       "      <th>dose_start</th>\n",
       "      <th>dose_end</th>\n",
       "      <th>adverse_reaction</th>\n",
       "    </tr>\n",
       "  </thead>\n",
       "  <tbody>\n",
       "    <tr>\n",
       "      <th>0</th>\n",
       "      <td>veronika</td>\n",
       "      <td>jindrová</td>\n",
       "      <td>7.63</td>\n",
       "      <td>7.20</td>\n",
       "      <td>0.43</td>\n",
       "      <td>auralin</td>\n",
       "      <td>41u</td>\n",
       "      <td>48u</td>\n",
       "      <td>NaN</td>\n",
       "    </tr>\n",
       "    <tr>\n",
       "      <th>1</th>\n",
       "      <td>skye</td>\n",
       "      <td>gormanston</td>\n",
       "      <td>7.97</td>\n",
       "      <td>7.62</td>\n",
       "      <td>0.35</td>\n",
       "      <td>auralin</td>\n",
       "      <td>33u</td>\n",
       "      <td>36u</td>\n",
       "      <td>NaN</td>\n",
       "    </tr>\n",
       "    <tr>\n",
       "      <th>2</th>\n",
       "      <td>sophia</td>\n",
       "      <td>haugen</td>\n",
       "      <td>7.65</td>\n",
       "      <td>7.27</td>\n",
       "      <td>0.38</td>\n",
       "      <td>auralin</td>\n",
       "      <td>37u</td>\n",
       "      <td>42u</td>\n",
       "      <td>NaN</td>\n",
       "    </tr>\n",
       "    <tr>\n",
       "      <th>3</th>\n",
       "      <td>eddie</td>\n",
       "      <td>archer</td>\n",
       "      <td>7.89</td>\n",
       "      <td>7.55</td>\n",
       "      <td>0.34</td>\n",
       "      <td>auralin</td>\n",
       "      <td>31u</td>\n",
       "      <td>38u</td>\n",
       "      <td>NaN</td>\n",
       "    </tr>\n",
       "    <tr>\n",
       "      <th>4</th>\n",
       "      <td>asia</td>\n",
       "      <td>woźniak</td>\n",
       "      <td>7.76</td>\n",
       "      <td>7.37</td>\n",
       "      <td>0.39</td>\n",
       "      <td>auralin</td>\n",
       "      <td>30u</td>\n",
       "      <td>36u</td>\n",
       "      <td>NaN</td>\n",
       "    </tr>\n",
       "    <tr>\n",
       "      <th>...</th>\n",
       "      <td>...</td>\n",
       "      <td>...</td>\n",
       "      <td>...</td>\n",
       "      <td>...</td>\n",
       "      <td>...</td>\n",
       "      <td>...</td>\n",
       "      <td>...</td>\n",
       "      <td>...</td>\n",
       "      <td>...</td>\n",
       "    </tr>\n",
       "    <tr>\n",
       "      <th>345</th>\n",
       "      <td>christopher</td>\n",
       "      <td>woodward</td>\n",
       "      <td>7.51</td>\n",
       "      <td>7.06</td>\n",
       "      <td>0.45</td>\n",
       "      <td>novodra</td>\n",
       "      <td>55u</td>\n",
       "      <td>51u</td>\n",
       "      <td>nausea</td>\n",
       "    </tr>\n",
       "    <tr>\n",
       "      <th>346</th>\n",
       "      <td>maret</td>\n",
       "      <td>sultygov</td>\n",
       "      <td>7.67</td>\n",
       "      <td>7.30</td>\n",
       "      <td>0.37</td>\n",
       "      <td>novodra</td>\n",
       "      <td>26u</td>\n",
       "      <td>23u</td>\n",
       "      <td>NaN</td>\n",
       "    </tr>\n",
       "    <tr>\n",
       "      <th>347</th>\n",
       "      <td>lixue</td>\n",
       "      <td>hsueh</td>\n",
       "      <td>9.21</td>\n",
       "      <td>8.80</td>\n",
       "      <td>0.41</td>\n",
       "      <td>novodra</td>\n",
       "      <td>22u</td>\n",
       "      <td>23u</td>\n",
       "      <td>injection site discomfort</td>\n",
       "    </tr>\n",
       "    <tr>\n",
       "      <th>348</th>\n",
       "      <td>jakob</td>\n",
       "      <td>jakobsen</td>\n",
       "      <td>7.96</td>\n",
       "      <td>7.51</td>\n",
       "      <td>0.45</td>\n",
       "      <td>novodra</td>\n",
       "      <td>28u</td>\n",
       "      <td>26u</td>\n",
       "      <td>hypoglycemia</td>\n",
       "    </tr>\n",
       "    <tr>\n",
       "      <th>349</th>\n",
       "      <td>berta</td>\n",
       "      <td>napolitani</td>\n",
       "      <td>7.68</td>\n",
       "      <td>7.21</td>\n",
       "      <td>0.47</td>\n",
       "      <td>novodra</td>\n",
       "      <td>42u</td>\n",
       "      <td>44u</td>\n",
       "      <td>injection site discomfort</td>\n",
       "    </tr>\n",
       "  </tbody>\n",
       "</table>\n",
       "<p>350 rows × 9 columns</p>\n",
       "</div>"
      ],
      "text/plain": [
       "      given_name     surname  hba1c_start  hba1c_end  hba1c_change treatment  \\\n",
       "0       veronika    jindrová         7.63       7.20          0.43   auralin   \n",
       "1           skye  gormanston         7.97       7.62          0.35   auralin   \n",
       "2         sophia      haugen         7.65       7.27          0.38   auralin   \n",
       "3          eddie      archer         7.89       7.55          0.34   auralin   \n",
       "4           asia     woźniak         7.76       7.37          0.39   auralin   \n",
       "..           ...         ...          ...        ...           ...       ...   \n",
       "345  christopher    woodward         7.51       7.06          0.45   novodra   \n",
       "346        maret    sultygov         7.67       7.30          0.37   novodra   \n",
       "347        lixue       hsueh         9.21       8.80          0.41   novodra   \n",
       "348        jakob    jakobsen         7.96       7.51          0.45   novodra   \n",
       "349        berta  napolitani         7.68       7.21          0.47   novodra   \n",
       "\n",
       "    dose_start dose_end           adverse_reaction  \n",
       "0         41u       48u                        NaN  \n",
       "1         33u       36u                        NaN  \n",
       "2         37u       42u                        NaN  \n",
       "3         31u       38u                        NaN  \n",
       "4         30u       36u                        NaN  \n",
       "..         ...      ...                        ...  \n",
       "345       55u       51u                     nausea  \n",
       "346       26u       23u                        NaN  \n",
       "347       22u       23u  injection site discomfort  \n",
       "348       28u       26u               hypoglycemia  \n",
       "349       42u       44u  injection site discomfort  \n",
       "\n",
       "[350 rows x 9 columns]"
      ]
     },
     "execution_count": 30,
     "metadata": {},
     "output_type": "execute_result"
    }
   ],
   "source": [
    "treatments_clean"
   ]
  },
  {
   "cell_type": "markdown",
   "metadata": {},
   "source": [
    "#### `treatments`: Given name and surname columns in patients table duplicated in treatments and adverse_reactions tables"
   ]
  },
  {
   "cell_type": "markdown",
   "metadata": {},
   "source": [
    "#### Define"
   ]
  },
  {
   "cell_type": "markdown",
   "metadata": {},
   "source": [
    "- Adverse reaction table is no longer needed. extract patient id, given name, surname from patients table.\n",
    "- Convert them to lowercase and merge to treatments table join on given name, surname.\n",
    "- Drop the given name and surname in treatments table."
   ]
  },
  {
   "cell_type": "markdown",
   "metadata": {},
   "source": [
    "#### Code"
   ]
  },
  {
   "cell_type": "code",
   "execution_count": 31,
   "metadata": {},
   "outputs": [
    {
     "name": "stderr",
     "output_type": "stream",
     "text": [
      "C:\\Users\\Samizic09\\AppData\\Local\\Temp\\ipykernel_3728\\2927633746.py:2: SettingWithCopyWarning: \n",
      "A value is trying to be set on a copy of a slice from a DataFrame.\n",
      "Try using .loc[row_indexer,col_indexer] = value instead\n",
      "\n",
      "See the caveats in the documentation: https://pandas.pydata.org/pandas-docs/stable/user_guide/indexing.html#returning-a-view-versus-a-copy\n",
      "  id_names.given_name = id_names.given_name.str.lower()\n",
      "C:\\Users\\Samizic09\\AppData\\Local\\Temp\\ipykernel_3728\\2927633746.py:3: SettingWithCopyWarning: \n",
      "A value is trying to be set on a copy of a slice from a DataFrame.\n",
      "Try using .loc[row_indexer,col_indexer] = value instead\n",
      "\n",
      "See the caveats in the documentation: https://pandas.pydata.org/pandas-docs/stable/user_guide/indexing.html#returning-a-view-versus-a-copy\n",
      "  id_names.surname = id_names.surname.str.lower()\n"
     ]
    }
   ],
   "source": [
    "id_names = patients_clean[['patient_id', 'given_name', 'surname']]\n",
    "id_names.given_name = id_names.given_name.str.lower()\n",
    "id_names.surname = id_names.surname.str.lower()\n",
    "\n",
    "# merge treatments table and id_names\n",
    "treatments_clean = pd.merge(treatments_clean, id_names, on = ['given_name', 'surname'])"
   ]
  },
  {
   "cell_type": "code",
   "execution_count": 32,
   "metadata": {},
   "outputs": [],
   "source": [
    "# drop given and surname\n",
    "treatments_clean.drop(['given_name', 'surname'], axis=1, inplace=True)"
   ]
  },
  {
   "cell_type": "markdown",
   "metadata": {},
   "source": [
    "#### Test"
   ]
  },
  {
   "cell_type": "code",
   "execution_count": 33,
   "metadata": {},
   "outputs": [
    {
     "data": {
      "text/html": [
       "<div>\n",
       "<style scoped>\n",
       "    .dataframe tbody tr th:only-of-type {\n",
       "        vertical-align: middle;\n",
       "    }\n",
       "\n",
       "    .dataframe tbody tr th {\n",
       "        vertical-align: top;\n",
       "    }\n",
       "\n",
       "    .dataframe thead th {\n",
       "        text-align: right;\n",
       "    }\n",
       "</style>\n",
       "<table border=\"1\" class=\"dataframe\">\n",
       "  <thead>\n",
       "    <tr style=\"text-align: right;\">\n",
       "      <th></th>\n",
       "      <th>hba1c_start</th>\n",
       "      <th>hba1c_end</th>\n",
       "      <th>hba1c_change</th>\n",
       "      <th>treatment</th>\n",
       "      <th>dose_start</th>\n",
       "      <th>dose_end</th>\n",
       "      <th>adverse_reaction</th>\n",
       "      <th>patient_id</th>\n",
       "    </tr>\n",
       "  </thead>\n",
       "  <tbody>\n",
       "    <tr>\n",
       "      <th>0</th>\n",
       "      <td>7.63</td>\n",
       "      <td>7.20</td>\n",
       "      <td>0.43</td>\n",
       "      <td>auralin</td>\n",
       "      <td>41u</td>\n",
       "      <td>48u</td>\n",
       "      <td>NaN</td>\n",
       "      <td>225</td>\n",
       "    </tr>\n",
       "    <tr>\n",
       "      <th>1</th>\n",
       "      <td>7.97</td>\n",
       "      <td>7.62</td>\n",
       "      <td>0.35</td>\n",
       "      <td>auralin</td>\n",
       "      <td>33u</td>\n",
       "      <td>36u</td>\n",
       "      <td>NaN</td>\n",
       "      <td>242</td>\n",
       "    </tr>\n",
       "    <tr>\n",
       "      <th>2</th>\n",
       "      <td>7.65</td>\n",
       "      <td>7.27</td>\n",
       "      <td>0.38</td>\n",
       "      <td>auralin</td>\n",
       "      <td>37u</td>\n",
       "      <td>42u</td>\n",
       "      <td>NaN</td>\n",
       "      <td>345</td>\n",
       "    </tr>\n",
       "    <tr>\n",
       "      <th>3</th>\n",
       "      <td>7.89</td>\n",
       "      <td>7.55</td>\n",
       "      <td>0.34</td>\n",
       "      <td>auralin</td>\n",
       "      <td>31u</td>\n",
       "      <td>38u</td>\n",
       "      <td>NaN</td>\n",
       "      <td>276</td>\n",
       "    </tr>\n",
       "    <tr>\n",
       "      <th>4</th>\n",
       "      <td>7.76</td>\n",
       "      <td>7.37</td>\n",
       "      <td>0.39</td>\n",
       "      <td>auralin</td>\n",
       "      <td>30u</td>\n",
       "      <td>36u</td>\n",
       "      <td>NaN</td>\n",
       "      <td>15</td>\n",
       "    </tr>\n",
       "  </tbody>\n",
       "</table>\n",
       "</div>"
      ],
      "text/plain": [
       "   hba1c_start  hba1c_end  hba1c_change treatment dose_start dose_end  \\\n",
       "0         7.63       7.20          0.43   auralin       41u       48u   \n",
       "1         7.97       7.62          0.35   auralin       33u       36u   \n",
       "2         7.65       7.27          0.38   auralin       37u       42u   \n",
       "3         7.89       7.55          0.34   auralin       31u       38u   \n",
       "4         7.76       7.37          0.39   auralin       30u       36u   \n",
       "\n",
       "  adverse_reaction  patient_id  \n",
       "0              NaN         225  \n",
       "1              NaN         242  \n",
       "2              NaN         345  \n",
       "3              NaN         276  \n",
       "4              NaN          15  "
      ]
     },
     "execution_count": 33,
     "metadata": {},
     "output_type": "execute_result"
    }
   ],
   "source": [
    "treatments_clean.head()"
   ]
  },
  {
   "cell_type": "code",
   "execution_count": 34,
   "metadata": {},
   "outputs": [
    {
     "name": "stdout",
     "output_type": "stream",
     "text": [
      "<class 'pandas.core.frame.DataFrame'>\n",
      "RangeIndex: 349 entries, 0 to 348\n",
      "Data columns (total 8 columns):\n",
      " #   Column            Non-Null Count  Dtype  \n",
      "---  ------            --------------  -----  \n",
      " 0   hba1c_start       349 non-null    float64\n",
      " 1   hba1c_end         349 non-null    float64\n",
      " 2   hba1c_change      349 non-null    float64\n",
      " 3   treatment         349 non-null    object \n",
      " 4   dose_start        349 non-null    object \n",
      " 5   dose_end          349 non-null    object \n",
      " 6   adverse_reaction  35 non-null     object \n",
      " 7   patient_id        349 non-null    int64  \n",
      "dtypes: float64(3), int64(1), object(4)\n",
      "memory usage: 21.9+ KB\n"
     ]
    }
   ],
   "source": [
    "treatments_clean.info()"
   ]
  },
  {
   "cell_type": "markdown",
   "metadata": {},
   "source": [
    "### Quality issue"
   ]
  },
  {
   "cell_type": "markdown",
   "metadata": {},
   "source": [
    "#### `Patients table`\n",
    "- Height column: Tim Neudorf height is 27 inches instead of 72 inches\n",
    "- Given name column: Inaccurate data for Dsvid instead of David\n",
    "- Default John Doe data"
   ]
  },
  {
   "cell_type": "markdown",
   "metadata": {},
   "source": [
    "#### Define"
   ]
  },
  {
   "cell_type": "markdown",
   "metadata": {},
   "source": [
    "- Replace 27 in with 72 in using `str.replace`\n",
    "- Replace 'Dsvid' with 'David' using `str.replace`\n",
    "- drop `John Doe` records."
   ]
  },
  {
   "cell_type": "markdown",
   "metadata": {},
   "source": [
    "#### Code"
   ]
  },
  {
   "cell_type": "code",
   "execution_count": 35,
   "metadata": {},
   "outputs": [],
   "source": [
    "# replace 27 in with 72 in using str.replace\n",
    "patients_clean['height'] = patients_clean['height'].replace(27, 72)"
   ]
  },
  {
   "cell_type": "code",
   "execution_count": 36,
   "metadata": {},
   "outputs": [],
   "source": [
    "# replace 'Dsvid' with 'David' using str.replace\n",
    "patients_clean['given_name'] = patients_clean['given_name'].replace('Dsvid', 'David')"
   ]
  },
  {
   "cell_type": "code",
   "execution_count": 37,
   "metadata": {},
   "outputs": [],
   "source": [
    "# drop John Doe data\n",
    "patients_clean = patients_clean[patients_clean['surname'] != 'Doe']"
   ]
  },
  {
   "cell_type": "markdown",
   "metadata": {},
   "source": [
    "#### Test"
   ]
  },
  {
   "cell_type": "code",
   "execution_count": 38,
   "metadata": {},
   "outputs": [
    {
     "data": {
      "text/html": [
       "<div>\n",
       "<style scoped>\n",
       "    .dataframe tbody tr th:only-of-type {\n",
       "        vertical-align: middle;\n",
       "    }\n",
       "\n",
       "    .dataframe tbody tr th {\n",
       "        vertical-align: top;\n",
       "    }\n",
       "\n",
       "    .dataframe thead th {\n",
       "        text-align: right;\n",
       "    }\n",
       "</style>\n",
       "<table border=\"1\" class=\"dataframe\">\n",
       "  <thead>\n",
       "    <tr style=\"text-align: right;\">\n",
       "      <th></th>\n",
       "      <th>patient_id</th>\n",
       "      <th>assigned_sex</th>\n",
       "      <th>given_name</th>\n",
       "      <th>surname</th>\n",
       "      <th>address</th>\n",
       "      <th>city</th>\n",
       "      <th>state</th>\n",
       "      <th>zip_code</th>\n",
       "      <th>country</th>\n",
       "      <th>birthdate</th>\n",
       "      <th>weight</th>\n",
       "      <th>height</th>\n",
       "      <th>bmi</th>\n",
       "      <th>phone_no</th>\n",
       "      <th>email</th>\n",
       "    </tr>\n",
       "  </thead>\n",
       "  <tbody>\n",
       "  </tbody>\n",
       "</table>\n",
       "</div>"
      ],
      "text/plain": [
       "Empty DataFrame\n",
       "Columns: [patient_id, assigned_sex, given_name, surname, address, city, state, zip_code, country, birthdate, weight, height, bmi, phone_no, email]\n",
       "Index: []"
      ]
     },
     "execution_count": 38,
     "metadata": {},
     "output_type": "execute_result"
    }
   ],
   "source": [
    "# recheck the value\n",
    "patients_clean[patients_clean['height'] == 27]"
   ]
  },
  {
   "cell_type": "code",
   "execution_count": 39,
   "metadata": {},
   "outputs": [
    {
     "data": {
      "text/html": [
       "<div>\n",
       "<style scoped>\n",
       "    .dataframe tbody tr th:only-of-type {\n",
       "        vertical-align: middle;\n",
       "    }\n",
       "\n",
       "    .dataframe tbody tr th {\n",
       "        vertical-align: top;\n",
       "    }\n",
       "\n",
       "    .dataframe thead th {\n",
       "        text-align: right;\n",
       "    }\n",
       "</style>\n",
       "<table border=\"1\" class=\"dataframe\">\n",
       "  <thead>\n",
       "    <tr style=\"text-align: right;\">\n",
       "      <th></th>\n",
       "      <th>patient_id</th>\n",
       "      <th>assigned_sex</th>\n",
       "      <th>given_name</th>\n",
       "      <th>surname</th>\n",
       "      <th>address</th>\n",
       "      <th>city</th>\n",
       "      <th>state</th>\n",
       "      <th>zip_code</th>\n",
       "      <th>country</th>\n",
       "      <th>birthdate</th>\n",
       "      <th>weight</th>\n",
       "      <th>height</th>\n",
       "      <th>bmi</th>\n",
       "      <th>phone_no</th>\n",
       "      <th>email</th>\n",
       "    </tr>\n",
       "  </thead>\n",
       "  <tbody>\n",
       "  </tbody>\n",
       "</table>\n",
       "</div>"
      ],
      "text/plain": [
       "Empty DataFrame\n",
       "Columns: [patient_id, assigned_sex, given_name, surname, address, city, state, zip_code, country, birthdate, weight, height, bmi, phone_no, email]\n",
       "Index: []"
      ]
     },
     "execution_count": 39,
     "metadata": {},
     "output_type": "execute_result"
    }
   ],
   "source": [
    "# recheck the value\n",
    "patients_clean[patients_clean['given_name'] == 'Dsvid']"
   ]
  },
  {
   "cell_type": "code",
   "execution_count": 40,
   "metadata": {},
   "outputs": [
    {
     "data": {
      "text/plain": [
       "surname\n",
       "Jakobsen       3\n",
       "Taylor         3\n",
       "Aranda         2\n",
       "Tucker         2\n",
       "Souza          2\n",
       "              ..\n",
       "Casárez        1\n",
       "Mata           1\n",
       "Pospíšil       1\n",
       "Rukavina       1\n",
       "Onyekaozulu    1\n",
       "Name: count, Length: 465, dtype: int64"
      ]
     },
     "execution_count": 40,
     "metadata": {},
     "output_type": "execute_result"
    }
   ],
   "source": [
    "# should not include Doe records\n",
    "patients_clean.surname.value_counts()"
   ]
  },
  {
   "cell_type": "markdown",
   "metadata": {},
   "source": [
    "#### `patients`: Inconsistent data in the zip code column. Zip code should be string not float"
   ]
  },
  {
   "cell_type": "markdown",
   "metadata": {},
   "source": [
    "#### Define"
   ]
  },
  {
   "cell_type": "markdown",
   "metadata": {},
   "source": [
    "- Convert zip code column datatype from float to string using `astype`\n",
    "- Remove '0' using string slicing and pad four digit zip codes with a leading 0."
   ]
  },
  {
   "cell_type": "markdown",
   "metadata": {},
   "source": [
    "#### Code"
   ]
  },
  {
   "cell_type": "code",
   "execution_count": 41,
   "metadata": {},
   "outputs": [],
   "source": [
    "# Convert zip code column datatype from float to string using astype\n",
    "patients_clean['zip_code'] = patients_clean['zip_code'].astype(str)"
   ]
  },
  {
   "cell_type": "code",
   "execution_count": 42,
   "metadata": {},
   "outputs": [],
   "source": [
    "# Remove '0' using string slicing and pad four digit zip codes with a leading 0.\n",
    "patients_clean['zip_code'] = patients_clean['zip_code'].str[:-2].str.pad(5, fillchar='0')"
   ]
  },
  {
   "cell_type": "markdown",
   "metadata": {},
   "source": [
    "#### Test"
   ]
  },
  {
   "cell_type": "code",
   "execution_count": 43,
   "metadata": {},
   "outputs": [
    {
     "data": {
      "text/plain": [
       "0      92390\n",
       "1      61812\n",
       "2      68467\n",
       "3      07095\n",
       "4      36303\n",
       "       ...  \n",
       "498    03852\n",
       "499    86341\n",
       "500    64110\n",
       "501    98109\n",
       "502    68324\n",
       "Name: zip_code, Length: 497, dtype: object"
      ]
     },
     "execution_count": 43,
     "metadata": {},
     "output_type": "execute_result"
    }
   ],
   "source": [
    "patients_clean['zip_code']"
   ]
  },
  {
   "cell_type": "markdown",
   "metadata": {},
   "source": [
    "#### `patients`: State column: Inconsistent data, using full and abbreviation names."
   ]
  },
  {
   "cell_type": "markdown",
   "metadata": {},
   "source": [
    "#### Define"
   ]
  },
  {
   "cell_type": "markdown",
   "metadata": {},
   "source": [
    "Replace the full state names with their respective abbreviations names"
   ]
  },
  {
   "cell_type": "markdown",
   "metadata": {},
   "source": [
    "#### Code"
   ]
  },
  {
   "cell_type": "code",
   "execution_count": 44,
   "metadata": {},
   "outputs": [],
   "source": [
    "# Replace the full state names\n",
    "patients_clean.state = patients_clean.state.replace(['California', 'Illinois', 'Nebraska', 'Florida', 'New York'], \n",
    "                                                    ['CA', 'IL', 'NE', 'FL', 'NY'])"
   ]
  },
  {
   "cell_type": "markdown",
   "metadata": {},
   "source": [
    "#### Test"
   ]
  },
  {
   "cell_type": "code",
   "execution_count": 45,
   "metadata": {},
   "outputs": [
    {
     "data": {
      "text/plain": [
       "state\n",
       "CA    60\n",
       "NY    41\n",
       "TX    32\n",
       "IL    24\n",
       "FL    22\n",
       "MA    22\n",
       "PA    18\n",
       "GA    15\n",
       "OH    14\n",
       "MI    13\n",
       "OK    13\n",
       "LA    13\n",
       "NJ    12\n",
       "VA    11\n",
       "WI    10\n",
       "MS    10\n",
       "AL     9\n",
       "TN     9\n",
       "IN     9\n",
       "MN     9\n",
       "NC     8\n",
       "KY     8\n",
       "WA     8\n",
       "MO     7\n",
       "NE     6\n",
       "KS     6\n",
       "ID     6\n",
       "NV     6\n",
       "SC     5\n",
       "IA     5\n",
       "CT     5\n",
       "RI     4\n",
       "ND     4\n",
       "AR     4\n",
       "AZ     4\n",
       "ME     4\n",
       "CO     4\n",
       "MD     3\n",
       "DE     3\n",
       "SD     3\n",
       "WV     3\n",
       "OR     3\n",
       "VT     2\n",
       "MT     2\n",
       "DC     2\n",
       "AK     1\n",
       "NM     1\n",
       "NH     1\n",
       "WY     1\n",
       "Name: count, dtype: int64"
      ]
     },
     "execution_count": 45,
     "metadata": {},
     "output_type": "execute_result"
    }
   ],
   "source": [
    "patients_clean.state.value_counts()"
   ]
  },
  {
   "cell_type": "markdown",
   "metadata": {},
   "source": [
    "####  `patients`: Data type issue: assigned sex, state, zip code and birthdate columns.\n",
    "#### `treatment`: Data type issue: auralin and novodra columns."
   ]
  },
  {
   "cell_type": "markdown",
   "metadata": {},
   "source": [
    "#### Define"
   ]
  },
  {
   "cell_type": "markdown",
   "metadata": {},
   "source": [
    "NB: The zip code column datatype has been changed earlier.\n",
    "- Change the assigned sex datatype to category in patients clean table.\n",
    "- Change the state datatype to category in patients clean table.\n",
    "- Change the birthdate column to datetime in patients clean table.\n",
    "- Strip 'u' from dose start and dose end columns in treatments clean table using 'str.strip()' and change them to integer data types."
   ]
  },
  {
   "cell_type": "markdown",
   "metadata": {},
   "source": [
    "#### Code"
   ]
  },
  {
   "cell_type": "code",
   "execution_count": 46,
   "metadata": {},
   "outputs": [],
   "source": [
    "# Change the assigned sex datatype to category in patients clean table\n",
    "patients_clean.assigned_sex = patients_clean.assigned_sex.astype('category')\n",
    "\n",
    "# Change the state datatype to category in patients clean table\n",
    "patients_clean.state = patients_clean.state.astype('category')\n",
    "\n",
    "# Change the birthdate columns to datetime in patients clean table\n",
    "patients_clean.birthdate = pd.to_datetime(patients_clean.birthdate)"
   ]
  },
  {
   "cell_type": "code",
   "execution_count": 47,
   "metadata": {},
   "outputs": [],
   "source": [
    "# Strip 'u' from dose start column in treatments clean table\n",
    "treatments_clean.dose_start = treatments_clean.dose_start.str[0:2]"
   ]
  },
  {
   "cell_type": "code",
   "execution_count": 48,
   "metadata": {},
   "outputs": [],
   "source": [
    "# Strip 'u' from dose end column in treatments clean table\n",
    "treatments_clean.dose_end = treatments_clean.dose_end.str.strip('u')"
   ]
  },
  {
   "cell_type": "code",
   "execution_count": 49,
   "metadata": {},
   "outputs": [
    {
     "name": "stdout",
     "output_type": "stream",
     "text": [
      "The history saving thread hit an unexpected error (OperationalError('disk I/O error')).History will not be written to the database.\n"
     ]
    }
   ],
   "source": [
    "# Change their datatype to integer\n",
    "treatments_clean.dose_start = treatments_clean.dose_start.astype(int)\n",
    "treatments_clean.dose_end = treatments_clean.dose_end.astype(int)"
   ]
  },
  {
   "cell_type": "markdown",
   "metadata": {},
   "source": [
    "#### Test"
   ]
  },
  {
   "cell_type": "code",
   "execution_count": 50,
   "metadata": {},
   "outputs": [
    {
     "name": "stdout",
     "output_type": "stream",
     "text": [
      "<class 'pandas.core.frame.DataFrame'>\n",
      "Index: 497 entries, 0 to 502\n",
      "Data columns (total 15 columns):\n",
      " #   Column        Non-Null Count  Dtype         \n",
      "---  ------        --------------  -----         \n",
      " 0   patient_id    497 non-null    int64         \n",
      " 1   assigned_sex  497 non-null    category      \n",
      " 2   given_name    497 non-null    object        \n",
      " 3   surname       497 non-null    object        \n",
      " 4   address       485 non-null    object        \n",
      " 5   city          485 non-null    object        \n",
      " 6   state         485 non-null    category      \n",
      " 7   zip_code      497 non-null    object        \n",
      " 8   country       485 non-null    object        \n",
      " 9   birthdate     497 non-null    datetime64[ns]\n",
      " 10  weight        497 non-null    float64       \n",
      " 11  height        497 non-null    int64         \n",
      " 12  bmi           497 non-null    float64       \n",
      " 13  phone_no      485 non-null    object        \n",
      " 14  email         485 non-null    object        \n",
      "dtypes: category(2), datetime64[ns](1), float64(2), int64(2), object(8)\n",
      "memory usage: 56.9+ KB\n"
     ]
    }
   ],
   "source": [
    "# check the datatypes\n",
    "patients_clean.info()"
   ]
  },
  {
   "cell_type": "code",
   "execution_count": 51,
   "metadata": {},
   "outputs": [
    {
     "name": "stdout",
     "output_type": "stream",
     "text": [
      "<class 'pandas.core.frame.DataFrame'>\n",
      "RangeIndex: 349 entries, 0 to 348\n",
      "Data columns (total 8 columns):\n",
      " #   Column            Non-Null Count  Dtype  \n",
      "---  ------            --------------  -----  \n",
      " 0   hba1c_start       349 non-null    float64\n",
      " 1   hba1c_end         349 non-null    float64\n",
      " 2   hba1c_change      349 non-null    float64\n",
      " 3   treatment         349 non-null    object \n",
      " 4   dose_start        349 non-null    int32  \n",
      " 5   dose_end          349 non-null    int32  \n",
      " 6   adverse_reaction  35 non-null     object \n",
      " 7   patient_id        349 non-null    int64  \n",
      "dtypes: float64(3), int32(2), int64(1), object(2)\n",
      "memory usage: 19.2+ KB\n"
     ]
    }
   ],
   "source": [
    "# check the datatypes\n",
    "treatments_clean.info()"
   ]
  },
  {
   "cell_type": "code",
   "execution_count": 52,
   "metadata": {},
   "outputs": [
    {
     "data": {
      "text/html": [
       "<div>\n",
       "<style scoped>\n",
       "    .dataframe tbody tr th:only-of-type {\n",
       "        vertical-align: middle;\n",
       "    }\n",
       "\n",
       "    .dataframe tbody tr th {\n",
       "        vertical-align: top;\n",
       "    }\n",
       "\n",
       "    .dataframe thead th {\n",
       "        text-align: right;\n",
       "    }\n",
       "</style>\n",
       "<table border=\"1\" class=\"dataframe\">\n",
       "  <thead>\n",
       "    <tr style=\"text-align: right;\">\n",
       "      <th></th>\n",
       "      <th>hba1c_start</th>\n",
       "      <th>hba1c_end</th>\n",
       "      <th>hba1c_change</th>\n",
       "      <th>treatment</th>\n",
       "      <th>dose_start</th>\n",
       "      <th>dose_end</th>\n",
       "      <th>adverse_reaction</th>\n",
       "      <th>patient_id</th>\n",
       "    </tr>\n",
       "  </thead>\n",
       "  <tbody>\n",
       "    <tr>\n",
       "      <th>0</th>\n",
       "      <td>7.63</td>\n",
       "      <td>7.20</td>\n",
       "      <td>0.43</td>\n",
       "      <td>auralin</td>\n",
       "      <td>41</td>\n",
       "      <td>48</td>\n",
       "      <td>NaN</td>\n",
       "      <td>225</td>\n",
       "    </tr>\n",
       "    <tr>\n",
       "      <th>1</th>\n",
       "      <td>7.97</td>\n",
       "      <td>7.62</td>\n",
       "      <td>0.35</td>\n",
       "      <td>auralin</td>\n",
       "      <td>33</td>\n",
       "      <td>36</td>\n",
       "      <td>NaN</td>\n",
       "      <td>242</td>\n",
       "    </tr>\n",
       "    <tr>\n",
       "      <th>2</th>\n",
       "      <td>7.65</td>\n",
       "      <td>7.27</td>\n",
       "      <td>0.38</td>\n",
       "      <td>auralin</td>\n",
       "      <td>37</td>\n",
       "      <td>42</td>\n",
       "      <td>NaN</td>\n",
       "      <td>345</td>\n",
       "    </tr>\n",
       "    <tr>\n",
       "      <th>3</th>\n",
       "      <td>7.89</td>\n",
       "      <td>7.55</td>\n",
       "      <td>0.34</td>\n",
       "      <td>auralin</td>\n",
       "      <td>31</td>\n",
       "      <td>38</td>\n",
       "      <td>NaN</td>\n",
       "      <td>276</td>\n",
       "    </tr>\n",
       "    <tr>\n",
       "      <th>4</th>\n",
       "      <td>7.76</td>\n",
       "      <td>7.37</td>\n",
       "      <td>0.39</td>\n",
       "      <td>auralin</td>\n",
       "      <td>30</td>\n",
       "      <td>36</td>\n",
       "      <td>NaN</td>\n",
       "      <td>15</td>\n",
       "    </tr>\n",
       "  </tbody>\n",
       "</table>\n",
       "</div>"
      ],
      "text/plain": [
       "   hba1c_start  hba1c_end  hba1c_change treatment  dose_start  dose_end  \\\n",
       "0         7.63       7.20          0.43   auralin          41        48   \n",
       "1         7.97       7.62          0.35   auralin          33        36   \n",
       "2         7.65       7.27          0.38   auralin          37        42   \n",
       "3         7.89       7.55          0.34   auralin          31        38   \n",
       "4         7.76       7.37          0.39   auralin          30        36   \n",
       "\n",
       "  adverse_reaction  patient_id  \n",
       "0              NaN         225  \n",
       "1              NaN         242  \n",
       "2              NaN         345  \n",
       "3              NaN         276  \n",
       "4              NaN          15  "
      ]
     },
     "execution_count": 52,
     "metadata": {},
     "output_type": "execute_result"
    }
   ],
   "source": [
    "treatments_clean.head()"
   ]
  },
  {
   "cell_type": "markdown",
   "metadata": {},
   "source": [
    "#### Multiple phone number formats"
   ]
  },
  {
   "cell_type": "markdown",
   "metadata": {},
   "source": [
    "#### Define"
   ]
  },
  {
   "cell_type": "markdown",
   "metadata": {},
   "source": [
    "Replace the string ('+\", \"-\", \"()\",\"\") and use pad to fill the first charcacter to 1 where phone number length is 10 digits."
   ]
  },
  {
   "cell_type": "markdown",
   "metadata": {},
   "source": [
    "#### Code"
   ]
  },
  {
   "cell_type": "code",
   "execution_count": 53,
   "metadata": {},
   "outputs": [],
   "source": [
    "patients_clean.phone_no = patients_clean.phone_no.str.replace('\\D+', '', regex=True).str.pad(11, fillchar='1')"
   ]
  },
  {
   "cell_type": "markdown",
   "metadata": {},
   "source": [
    "#### Test"
   ]
  },
  {
   "cell_type": "code",
   "execution_count": 54,
   "metadata": {},
   "outputs": [
    {
     "data": {
      "text/plain": [
       "0      19517199170\n",
       "1      12175693204\n",
       "2      14023636804\n",
       "3      17326368246\n",
       "4      13345157487\n",
       "          ...     \n",
       "498    12074770579\n",
       "499    19282844492\n",
       "500    18162236007\n",
       "501    13604432060\n",
       "502    14028484923\n",
       "Name: phone_no, Length: 497, dtype: object"
      ]
     },
     "execution_count": 54,
     "metadata": {},
     "output_type": "execute_result"
    }
   ],
   "source": [
    "patients_clean.phone_no"
   ]
  },
  {
   "cell_type": "markdown",
   "metadata": {},
   "source": [
    "#### `patients table`: Multiple records for Jakobsen, Gersten, Taylor"
   ]
  },
  {
   "cell_type": "markdown",
   "metadata": {},
   "source": [
    "#### Define"
   ]
  },
  {
   "cell_type": "markdown",
   "metadata": {},
   "source": [
    "Remove the Jake Jakobsen, Pat Gersten, and Sandy Taylor duplicated rows from the patients table."
   ]
  },
  {
   "cell_type": "markdown",
   "metadata": {},
   "source": [
    "#### Code"
   ]
  },
  {
   "cell_type": "code",
   "execution_count": 55,
   "metadata": {},
   "outputs": [],
   "source": [
    "patients_clean = patients_clean[~((patients_clean.address.duplicated()) & patients_clean.address.notnull())]"
   ]
  },
  {
   "cell_type": "markdown",
   "metadata": {},
   "source": [
    "#### Test"
   ]
  },
  {
   "cell_type": "code",
   "execution_count": 56,
   "metadata": {},
   "outputs": [
    {
     "data": {
      "text/html": [
       "<div>\n",
       "<style scoped>\n",
       "    .dataframe tbody tr th:only-of-type {\n",
       "        vertical-align: middle;\n",
       "    }\n",
       "\n",
       "    .dataframe tbody tr th {\n",
       "        vertical-align: top;\n",
       "    }\n",
       "\n",
       "    .dataframe thead th {\n",
       "        text-align: right;\n",
       "    }\n",
       "</style>\n",
       "<table border=\"1\" class=\"dataframe\">\n",
       "  <thead>\n",
       "    <tr style=\"text-align: right;\">\n",
       "      <th></th>\n",
       "      <th>patient_id</th>\n",
       "      <th>assigned_sex</th>\n",
       "      <th>given_name</th>\n",
       "      <th>surname</th>\n",
       "      <th>address</th>\n",
       "      <th>city</th>\n",
       "      <th>state</th>\n",
       "      <th>zip_code</th>\n",
       "      <th>country</th>\n",
       "      <th>birthdate</th>\n",
       "      <th>weight</th>\n",
       "      <th>height</th>\n",
       "      <th>bmi</th>\n",
       "      <th>phone_no</th>\n",
       "      <th>email</th>\n",
       "    </tr>\n",
       "  </thead>\n",
       "  <tbody>\n",
       "    <tr>\n",
       "      <th>24</th>\n",
       "      <td>25</td>\n",
       "      <td>male</td>\n",
       "      <td>Jakob</td>\n",
       "      <td>Jakobsen</td>\n",
       "      <td>648 Old Dear Lane</td>\n",
       "      <td>Port Jervis</td>\n",
       "      <td>NY</td>\n",
       "      <td>12771</td>\n",
       "      <td>United States</td>\n",
       "      <td>1985-08-01</td>\n",
       "      <td>155.8</td>\n",
       "      <td>67</td>\n",
       "      <td>24.4</td>\n",
       "      <td>18458587707</td>\n",
       "      <td>JakobCJakobsen@einrot.com</td>\n",
       "    </tr>\n",
       "    <tr>\n",
       "      <th>432</th>\n",
       "      <td>433</td>\n",
       "      <td>female</td>\n",
       "      <td>Karen</td>\n",
       "      <td>Jakobsen</td>\n",
       "      <td>1690 Fannie Street</td>\n",
       "      <td>Houston</td>\n",
       "      <td>TX</td>\n",
       "      <td>77020</td>\n",
       "      <td>United States</td>\n",
       "      <td>1962-11-25</td>\n",
       "      <td>185.2</td>\n",
       "      <td>67</td>\n",
       "      <td>29.0</td>\n",
       "      <td>19792030438</td>\n",
       "      <td>KarenJakobsen@jourrapide.com1</td>\n",
       "    </tr>\n",
       "  </tbody>\n",
       "</table>\n",
       "</div>"
      ],
      "text/plain": [
       "     patient_id assigned_sex given_name   surname             address  \\\n",
       "24           25         male      Jakob  Jakobsen   648 Old Dear Lane   \n",
       "432         433       female      Karen  Jakobsen  1690 Fannie Street   \n",
       "\n",
       "            city state zip_code        country  birthdate  weight  height  \\\n",
       "24   Port Jervis    NY    12771  United States 1985-08-01   155.8      67   \n",
       "432      Houston    TX    77020  United States 1962-11-25   185.2      67   \n",
       "\n",
       "      bmi     phone_no                          email  \n",
       "24   24.4  18458587707      JakobCJakobsen@einrot.com  \n",
       "432  29.0  19792030438  KarenJakobsen@jourrapide.com1  "
      ]
     },
     "execution_count": 56,
     "metadata": {},
     "output_type": "execute_result"
    }
   ],
   "source": [
    "patients_clean[patients_clean.surname == 'Jakobsen']"
   ]
  },
  {
   "cell_type": "code",
   "execution_count": 57,
   "metadata": {},
   "outputs": [
    {
     "data": {
      "text/html": [
       "<div>\n",
       "<style scoped>\n",
       "    .dataframe tbody tr th:only-of-type {\n",
       "        vertical-align: middle;\n",
       "    }\n",
       "\n",
       "    .dataframe tbody tr th {\n",
       "        vertical-align: top;\n",
       "    }\n",
       "\n",
       "    .dataframe thead th {\n",
       "        text-align: right;\n",
       "    }\n",
       "</style>\n",
       "<table border=\"1\" class=\"dataframe\">\n",
       "  <thead>\n",
       "    <tr style=\"text-align: right;\">\n",
       "      <th></th>\n",
       "      <th>patient_id</th>\n",
       "      <th>assigned_sex</th>\n",
       "      <th>given_name</th>\n",
       "      <th>surname</th>\n",
       "      <th>address</th>\n",
       "      <th>city</th>\n",
       "      <th>state</th>\n",
       "      <th>zip_code</th>\n",
       "      <th>country</th>\n",
       "      <th>birthdate</th>\n",
       "      <th>weight</th>\n",
       "      <th>height</th>\n",
       "      <th>bmi</th>\n",
       "      <th>phone_no</th>\n",
       "      <th>email</th>\n",
       "    </tr>\n",
       "  </thead>\n",
       "  <tbody>\n",
       "    <tr>\n",
       "      <th>97</th>\n",
       "      <td>98</td>\n",
       "      <td>male</td>\n",
       "      <td>Patrick</td>\n",
       "      <td>Gersten</td>\n",
       "      <td>2778 North Avenue</td>\n",
       "      <td>Burr</td>\n",
       "      <td>NE</td>\n",
       "      <td>68324</td>\n",
       "      <td>United States</td>\n",
       "      <td>1954-05-03</td>\n",
       "      <td>138.2</td>\n",
       "      <td>71</td>\n",
       "      <td>19.3</td>\n",
       "      <td>14028484923</td>\n",
       "      <td>PatrickGersten@rhyta.com402</td>\n",
       "    </tr>\n",
       "  </tbody>\n",
       "</table>\n",
       "</div>"
      ],
      "text/plain": [
       "    patient_id assigned_sex given_name  surname            address  city  \\\n",
       "97          98         male    Patrick  Gersten  2778 North Avenue  Burr   \n",
       "\n",
       "   state zip_code        country  birthdate  weight  height   bmi  \\\n",
       "97    NE    68324  United States 1954-05-03   138.2      71  19.3   \n",
       "\n",
       "       phone_no                        email  \n",
       "97  14028484923  PatrickGersten@rhyta.com402  "
      ]
     },
     "execution_count": 57,
     "metadata": {},
     "output_type": "execute_result"
    }
   ],
   "source": [
    "patients_clean[patients_clean.surname == 'Gersten']"
   ]
  },
  {
   "cell_type": "code",
   "execution_count": 58,
   "metadata": {},
   "outputs": [
    {
     "data": {
      "text/html": [
       "<div>\n",
       "<style scoped>\n",
       "    .dataframe tbody tr th:only-of-type {\n",
       "        vertical-align: middle;\n",
       "    }\n",
       "\n",
       "    .dataframe tbody tr th {\n",
       "        vertical-align: top;\n",
       "    }\n",
       "\n",
       "    .dataframe thead th {\n",
       "        text-align: right;\n",
       "    }\n",
       "</style>\n",
       "<table border=\"1\" class=\"dataframe\">\n",
       "  <thead>\n",
       "    <tr style=\"text-align: right;\">\n",
       "      <th></th>\n",
       "      <th>patient_id</th>\n",
       "      <th>assigned_sex</th>\n",
       "      <th>given_name</th>\n",
       "      <th>surname</th>\n",
       "      <th>address</th>\n",
       "      <th>city</th>\n",
       "      <th>state</th>\n",
       "      <th>zip_code</th>\n",
       "      <th>country</th>\n",
       "      <th>birthdate</th>\n",
       "      <th>weight</th>\n",
       "      <th>height</th>\n",
       "      <th>bmi</th>\n",
       "      <th>phone_no</th>\n",
       "      <th>email</th>\n",
       "    </tr>\n",
       "  </thead>\n",
       "  <tbody>\n",
       "    <tr>\n",
       "      <th>131</th>\n",
       "      <td>132</td>\n",
       "      <td>female</td>\n",
       "      <td>Sandra</td>\n",
       "      <td>Taylor</td>\n",
       "      <td>2476 Fulton Street</td>\n",
       "      <td>Rainelle</td>\n",
       "      <td>WV</td>\n",
       "      <td>25962</td>\n",
       "      <td>United States</td>\n",
       "      <td>1960-10-23</td>\n",
       "      <td>206.1</td>\n",
       "      <td>64</td>\n",
       "      <td>35.4</td>\n",
       "      <td>13044382648</td>\n",
       "      <td>SandraCTaylor@dayrep.com</td>\n",
       "    </tr>\n",
       "    <tr>\n",
       "      <th>426</th>\n",
       "      <td>427</td>\n",
       "      <td>male</td>\n",
       "      <td>Rogelio</td>\n",
       "      <td>Taylor</td>\n",
       "      <td>4064 Marigold Lane</td>\n",
       "      <td>Miami</td>\n",
       "      <td>FL</td>\n",
       "      <td>33179</td>\n",
       "      <td>United States</td>\n",
       "      <td>1992-09-02</td>\n",
       "      <td>186.6</td>\n",
       "      <td>69</td>\n",
       "      <td>27.6</td>\n",
       "      <td>13054346299</td>\n",
       "      <td>RogelioJTaylor@teleworm.us</td>\n",
       "    </tr>\n",
       "  </tbody>\n",
       "</table>\n",
       "</div>"
      ],
      "text/plain": [
       "     patient_id assigned_sex given_name surname             address      city  \\\n",
       "131         132       female     Sandra  Taylor  2476 Fulton Street  Rainelle   \n",
       "426         427         male    Rogelio  Taylor  4064 Marigold Lane     Miami   \n",
       "\n",
       "    state zip_code        country  birthdate  weight  height   bmi  \\\n",
       "131    WV    25962  United States 1960-10-23   206.1      64  35.4   \n",
       "426    FL    33179  United States 1992-09-02   186.6      69  27.6   \n",
       "\n",
       "        phone_no                       email  \n",
       "131  13044382648    SandraCTaylor@dayrep.com  \n",
       "426  13054346299  RogelioJTaylor@teleworm.us  "
      ]
     },
     "execution_count": 58,
     "metadata": {},
     "output_type": "execute_result"
    }
   ],
   "source": [
    "patients_clean[patients_clean.surname == 'Taylor']"
   ]
  },
  {
   "cell_type": "markdown",
   "metadata": {},
   "source": [
    "#### kgs instead of lbs for Zaitseva weight"
   ]
  },
  {
   "cell_type": "markdown",
   "metadata": {},
   "source": [
    "#### Define"
   ]
  },
  {
   "cell_type": "markdown",
   "metadata": {},
   "source": [
    "Isolate the row where the surname is Zaitseva and convert the entry in its weight field from kg to lbs using indexing."
   ]
  },
  {
   "cell_type": "markdown",
   "metadata": {},
   "source": [
    "#### Code"
   ]
  },
  {
   "cell_type": "code",
   "execution_count": 59,
   "metadata": {},
   "outputs": [],
   "source": [
    "# mask the row and change the weight values\n",
    "weight_kg = patients_clean['weight'].min()\n",
    "mask = patients_clean['surname'] == 'Zaitseva'\n",
    "col_name = 'weight'\n",
    "patients_clean.loc[mask, col_name] = weight_kg * 2.20462"
   ]
  },
  {
   "cell_type": "markdown",
   "metadata": {},
   "source": [
    "#### Test"
   ]
  },
  {
   "cell_type": "code",
   "execution_count": 60,
   "metadata": {},
   "outputs": [
    {
     "data": {
      "text/plain": [
       "459    102.1\n",
       "335    102.7\n",
       "74     103.2\n",
       "317    106.0\n",
       "171    106.5\n",
       "       ...  \n",
       "144    244.9\n",
       "61     244.9\n",
       "283    245.5\n",
       "118    254.5\n",
       "485    255.9\n",
       "Name: weight, Length: 494, dtype: float64"
      ]
     },
     "execution_count": 60,
     "metadata": {},
     "output_type": "execute_result"
    }
   ],
   "source": [
    "# min weight is now above 48.8\n",
    "patients_clean['weight'].sort_values()"
   ]
  },
  {
   "cell_type": "markdown",
   "metadata": {},
   "source": [
    "#### `patients table`: Null values in address,city, state, zip code, country, and contact columns"
   ]
  },
  {
   "cell_type": "markdown",
   "metadata": {},
   "source": [
    "#### Define"
   ]
  },
  {
   "cell_type": "markdown",
   "metadata": {},
   "source": [
    "Drop null values using `pandas dropna`"
   ]
  },
  {
   "cell_type": "markdown",
   "metadata": {},
   "source": [
    "#### Code"
   ]
  },
  {
   "cell_type": "code",
   "execution_count": 61,
   "metadata": {},
   "outputs": [],
   "source": [
    "patients_clean.dropna(axis=0, inplace=True)"
   ]
  },
  {
   "cell_type": "markdown",
   "metadata": {},
   "source": [
    "#### Test"
   ]
  },
  {
   "cell_type": "code",
   "execution_count": 62,
   "metadata": {},
   "outputs": [
    {
     "name": "stdout",
     "output_type": "stream",
     "text": [
      "<class 'pandas.core.frame.DataFrame'>\n",
      "Index: 482 entries, 0 to 501\n",
      "Data columns (total 15 columns):\n",
      " #   Column        Non-Null Count  Dtype         \n",
      "---  ------        --------------  -----         \n",
      " 0   patient_id    482 non-null    int64         \n",
      " 1   assigned_sex  482 non-null    category      \n",
      " 2   given_name    482 non-null    object        \n",
      " 3   surname       482 non-null    object        \n",
      " 4   address       482 non-null    object        \n",
      " 5   city          482 non-null    object        \n",
      " 6   state         482 non-null    category      \n",
      " 7   zip_code      482 non-null    object        \n",
      " 8   country       482 non-null    object        \n",
      " 9   birthdate     482 non-null    datetime64[ns]\n",
      " 10  weight        482 non-null    float64       \n",
      " 11  height        482 non-null    int64         \n",
      " 12  bmi           482 non-null    float64       \n",
      " 13  phone_no      482 non-null    object        \n",
      " 14  email         482 non-null    object        \n",
      "dtypes: category(2), datetime64[ns](1), float64(2), int64(2), object(8)\n",
      "memory usage: 55.2+ KB\n"
     ]
    }
   ],
   "source": [
    "patients_clean.info()"
   ]
  },
  {
   "cell_type": "markdown",
   "metadata": {},
   "source": [
    "## Key Metrics"
   ]
  },
  {
   "cell_type": "markdown",
   "metadata": {},
   "source": [
    "#### Featuring Engineering"
   ]
  },
  {
   "cell_type": "markdown",
   "metadata": {},
   "source": [
    "- Create new column dose change from dose start and dosen end in `treatments table`"
   ]
  },
  {
   "cell_type": "code",
   "execution_count": 63,
   "metadata": {},
   "outputs": [],
   "source": [
    "treatments_clean['dose_change'] = treatments_clean['dose_start'] - treatments_clean['dose_end']"
   ]
  },
  {
   "cell_type": "markdown",
   "metadata": {},
   "source": [
    "#### Height"
   ]
  },
  {
   "cell_type": "code",
   "execution_count": 64,
   "metadata": {
    "scrolled": true
   },
   "outputs": [
    {
     "data": {
      "image/png": "[encoded data removed]",
      "text/plain": [
       "<Figure size 640x480 with 1 Axes>"
      ]
     },
     "metadata": {},
     "output_type": "display_data"
    }
   ],
   "source": [
    "# create bins\n",
    "bins = np.arange(59, patients_clean['height'].max()+3, 3)\n",
    "\n",
    "# plot a histogram\n",
    "plt.hist(data=patients_clean, x='height', bins=bins)\n",
    "plt.xlabel('height')\n",
    "plt.title(\"Distribution of Patient Heights\")\n",
    "plt.show();"
   ]
  },
  {
   "cell_type": "markdown",
   "metadata": {},
   "source": [
    "### Does weight have an effect on diabetes?"
   ]
  },
  {
   "cell_type": "code",
   "execution_count": 65,
   "metadata": {},
   "outputs": [
    {
     "data": {
      "image/png": "[encoded data removed]",
      "text/plain": [
       "<Figure size 640x480 with 1 Axes>"
      ]
     },
     "metadata": {},
     "output_type": "display_data"
    }
   ],
   "source": [
    "# create bins\n",
    "bins = np.arange(17, patients_clean['bmi'].max()+4,4)\n",
    "\n",
    "# plot a histogram of patients bmi score\n",
    "plt.hist(data=patients_clean, x='bmi', bins=bins)\n",
    "plt.xlabel('BMI (Body Mass Index)')\n",
    "plt.title('Distribution of Patients BMI Score')\n",
    "plt.show();"
   ]
  },
  {
   "cell_type": "markdown",
   "metadata": {},
   "source": [
    "> Diabetic Patients with healthy weight (18.5 – 24.9) and overweight (25.0 – 29.9) tend to have more frequency scores compared to other weight status. From the distribution, weight seems to have less impact on diabetes.\n",
    "\n",
    "    Note: Statistical models can be performed to get more insights on this distribution."
   ]
  },
  {
   "cell_type": "markdown",
   "metadata": {},
   "source": [
    "### What are the trials' adverse reactions?"
   ]
  },
  {
   "cell_type": "code",
   "execution_count": 66,
   "metadata": {},
   "outputs": [
    {
     "data": {
      "text/html": [
       "<div>\n",
       "<style scoped>\n",
       "    .dataframe tbody tr th:only-of-type {\n",
       "        vertical-align: middle;\n",
       "    }\n",
       "\n",
       "    .dataframe tbody tr th {\n",
       "        vertical-align: top;\n",
       "    }\n",
       "\n",
       "    .dataframe thead th {\n",
       "        text-align: right;\n",
       "    }\n",
       "</style>\n",
       "<table border=\"1\" class=\"dataframe\">\n",
       "  <thead>\n",
       "    <tr style=\"text-align: right;\">\n",
       "      <th></th>\n",
       "      <th>treatment</th>\n",
       "      <th>adverse_reaction</th>\n",
       "      <th>count</th>\n",
       "    </tr>\n",
       "  </thead>\n",
       "  <tbody>\n",
       "    <tr>\n",
       "      <th>0</th>\n",
       "      <td>auralin</td>\n",
       "      <td>hypoglycemia</td>\n",
       "      <td>10</td>\n",
       "    </tr>\n",
       "    <tr>\n",
       "      <th>1</th>\n",
       "      <td>auralin</td>\n",
       "      <td>throat irritation</td>\n",
       "      <td>2</td>\n",
       "    </tr>\n",
       "    <tr>\n",
       "      <th>2</th>\n",
       "      <td>auralin</td>\n",
       "      <td>cough</td>\n",
       "      <td>1</td>\n",
       "    </tr>\n",
       "    <tr>\n",
       "      <th>3</th>\n",
       "      <td>auralin</td>\n",
       "      <td>headache</td>\n",
       "      <td>1</td>\n",
       "    </tr>\n",
       "    <tr>\n",
       "      <th>4</th>\n",
       "      <td>auralin</td>\n",
       "      <td>nausea</td>\n",
       "      <td>1</td>\n",
       "    </tr>\n",
       "    <tr>\n",
       "      <th>5</th>\n",
       "      <td>novodra</td>\n",
       "      <td>hypoglycemia</td>\n",
       "      <td>10</td>\n",
       "    </tr>\n",
       "    <tr>\n",
       "      <th>6</th>\n",
       "      <td>novodra</td>\n",
       "      <td>injection site discomfort</td>\n",
       "      <td>6</td>\n",
       "    </tr>\n",
       "    <tr>\n",
       "      <th>7</th>\n",
       "      <td>novodra</td>\n",
       "      <td>headache</td>\n",
       "      <td>2</td>\n",
       "    </tr>\n",
       "    <tr>\n",
       "      <th>8</th>\n",
       "      <td>novodra</td>\n",
       "      <td>cough</td>\n",
       "      <td>1</td>\n",
       "    </tr>\n",
       "    <tr>\n",
       "      <th>9</th>\n",
       "      <td>novodra</td>\n",
       "      <td>nausea</td>\n",
       "      <td>1</td>\n",
       "    </tr>\n",
       "  </tbody>\n",
       "</table>\n",
       "</div>"
      ],
      "text/plain": [
       "  treatment           adverse_reaction  count\n",
       "0   auralin               hypoglycemia     10\n",
       "1   auralin          throat irritation      2\n",
       "2   auralin                      cough      1\n",
       "3   auralin                   headache      1\n",
       "4   auralin                     nausea      1\n",
       "5   novodra               hypoglycemia     10\n",
       "6   novodra  injection site discomfort      6\n",
       "7   novodra                   headache      2\n",
       "8   novodra                      cough      1\n",
       "9   novodra                     nausea      1"
      ]
     },
     "execution_count": 66,
     "metadata": {},
     "output_type": "execute_result"
    }
   ],
   "source": [
    "reaction_count = treatments_clean.groupby(\"treatment\")['adverse_reaction'].value_counts()\n",
    "reaction_count = reaction_count.reset_index(name='count')\n",
    "reaction_count"
   ]
  },
  {
   "cell_type": "code",
   "execution_count": 67,
   "metadata": {},
   "outputs": [],
   "source": [
    "auralin_reaction = reaction_count[reaction_count['treatment'] == 'auralin']\n",
    "novodra_reaction = reaction_count[reaction_count['treatment'] == 'novodra']"
   ]
  },
  {
   "cell_type": "code",
   "execution_count": 68,
   "metadata": {},
   "outputs": [
    {
     "data": {
      "image/png": "[encoded data removed]",
      "text/plain": [
       "<Figure size 2000x800 with 2 Axes>"
      ]
     },
     "metadata": {},
     "output_type": "display_data"
    }
   ],
   "source": [
    "# plot horizonal bar chart\n",
    "\n",
    "base_color = sns.color_palette()[0]\n",
    "\n",
    "# plot a figure\n",
    "plt.figure(figsize=(20,8))\n",
    "\n",
    "# auralin adverse reactions\n",
    "plt.subplot(1,2,1)\n",
    "sns.barplot(data=auralin_reaction, y='adverse_reaction', x='count', color=base_color)\n",
    "plt.xlabel('Count')\n",
    "plt.ylabel('Adverse reaction')\n",
    "plt.title('Adverse reaction Counts for Auralin')\n",
    "\n",
    "# novodra adverse reactions\n",
    "plt.subplot(1,2,2)\n",
    "sns.barplot(data=novodra_reaction, y='adverse_reaction', x='count', color='red')\n",
    "plt.xlabel('Count')\n",
    "plt.ylabel('Adverse reaction')\n",
    "plt.title('Adverse reaction Counts for Novodra')\n",
    "plt.show();"
   ]
  },
  {
   "cell_type": "markdown",
   "metadata": {},
   "source": [
    "> Auralin and Novodra insulins have similar adverse reactions excluding throat irritation and injection site discomfort. Throat irritation for Auralin, which is expected because this pill is taken orally while injection site discomfort for Novodra, which is caused by injection needles."
   ]
  },
  {
   "cell_type": "markdown",
   "metadata": {},
   "source": [
    "### Mean Insulin Dose Change (IU)\n",
    "Note: Insulin is measure by units (1u or 1units)"
   ]
  },
  {
   "cell_type": "code",
   "execution_count": 69,
   "metadata": {},
   "outputs": [
    {
     "data": {
      "text/html": [
       "<div>\n",
       "<style scoped>\n",
       "    .dataframe tbody tr th:only-of-type {\n",
       "        vertical-align: middle;\n",
       "    }\n",
       "\n",
       "    .dataframe tbody tr th {\n",
       "        vertical-align: top;\n",
       "    }\n",
       "\n",
       "    .dataframe thead th {\n",
       "        text-align: right;\n",
       "    }\n",
       "</style>\n",
       "<table border=\"1\" class=\"dataframe\">\n",
       "  <thead>\n",
       "    <tr style=\"text-align: right;\">\n",
       "      <th></th>\n",
       "      <th>treatment</th>\n",
       "      <th>mean</th>\n",
       "    </tr>\n",
       "  </thead>\n",
       "  <tbody>\n",
       "    <tr>\n",
       "      <th>0</th>\n",
       "      <td>auralin</td>\n",
       "      <td>-8.325714</td>\n",
       "    </tr>\n",
       "    <tr>\n",
       "      <th>1</th>\n",
       "      <td>novodra</td>\n",
       "      <td>0.385057</td>\n",
       "    </tr>\n",
       "  </tbody>\n",
       "</table>\n",
       "</div>"
      ],
      "text/plain": [
       "  treatment      mean\n",
       "0   auralin -8.325714\n",
       "1   novodra  0.385057"
      ]
     },
     "execution_count": 69,
     "metadata": {},
     "output_type": "execute_result"
    }
   ],
   "source": [
    "mean_dose = treatments_clean.groupby('treatment')['dose_change'].mean()\n",
    "mean_dose = mean_dose.reset_index(name='mean')\n",
    "mean_dose"
   ]
  },
  {
   "cell_type": "code",
   "execution_count": 70,
   "metadata": {},
   "outputs": [
    {
     "data": {
      "image/png": "[encoded data removed]",
      "text/plain": [
       "<Figure size 640x480 with 1 Axes>"
      ]
     },
     "metadata": {},
     "output_type": "display_data"
    }
   ],
   "source": [
    "# plot bar chart\n",
    "\n",
    "sns.barplot(data=mean_dose, x='treatment', y='mean', color=base_color)\n",
    "plt.xlabel('Treatment')\n",
    "plt.ylabel('mean dose_change (units)')\n",
    "plt.title('Mean Insulin Dose Change (Units)')\n",
    "plt.show();"
   ]
  },
  {
   "cell_type": "markdown",
   "metadata": {},
   "source": [
    "> Auralin patients required an average of 8 more units of insulin to establish a normal blood sugarlevel compared to Novodra patients who required an average of 0.4 units less of insulin."
   ]
  },
  {
   "cell_type": "markdown",
   "metadata": {},
   "source": [
    "### Relationship between the dose_change and hbalc_change over treatments"
   ]
  },
  {
   "cell_type": "code",
   "execution_count": 71,
   "metadata": {},
   "outputs": [
    {
     "data": {
      "image/png": "[encoded data removed]",
      "text/plain": [
       "<Figure size 527.25x300 with 1 Axes>"
      ]
     },
     "metadata": {},
     "output_type": "display_data"
    }
   ],
   "source": [
    "g = sns.FacetGrid(data=treatments_clean, hue='treatment', aspect=1.4, palette='viridis_r')\n",
    "g.map(sns.regplot, 'hba1c_change', 'dose_change', fit_reg=False)\n",
    "g.add_legend();"
   ]
  },
  {
   "cell_type": "markdown",
   "metadata": {},
   "source": [
    "> From the visualization, Auralin (oral) insulin required more dosage of the insulin to help reduce the hbalc (hemoglobin A1c) while Novodra (injectable) insulin required less dosage of the insulin to help reduce the hbalc (hemoglobin A1c)."
   ]
  },
  {
   "cell_type": "markdown",
   "metadata": {},
   "source": [
    "### Mean (haemoglobin A1c) change over insulins (Auralin and Novodra)"
   ]
  },
  {
   "cell_type": "code",
   "execution_count": 72,
   "metadata": {},
   "outputs": [
    {
     "data": {
      "text/html": [
       "<div>\n",
       "<style scoped>\n",
       "    .dataframe tbody tr th:only-of-type {\n",
       "        vertical-align: middle;\n",
       "    }\n",
       "\n",
       "    .dataframe tbody tr th {\n",
       "        vertical-align: top;\n",
       "    }\n",
       "\n",
       "    .dataframe thead th {\n",
       "        text-align: right;\n",
       "    }\n",
       "</style>\n",
       "<table border=\"1\" class=\"dataframe\">\n",
       "  <thead>\n",
       "    <tr style=\"text-align: right;\">\n",
       "      <th></th>\n",
       "      <th>treatment</th>\n",
       "      <th>mean</th>\n",
       "    </tr>\n",
       "  </thead>\n",
       "  <tbody>\n",
       "    <tr>\n",
       "      <th>0</th>\n",
       "      <td>auralin</td>\n",
       "      <td>0.387657</td>\n",
       "    </tr>\n",
       "    <tr>\n",
       "      <th>1</th>\n",
       "      <td>novodra</td>\n",
       "      <td>0.404713</td>\n",
       "    </tr>\n",
       "  </tbody>\n",
       "</table>\n",
       "</div>"
      ],
      "text/plain": [
       "  treatment      mean\n",
       "0   auralin  0.387657\n",
       "1   novodra  0.404713"
      ]
     },
     "execution_count": 72,
     "metadata": {},
     "output_type": "execute_result"
    }
   ],
   "source": [
    "hba1c_mean = treatments_clean.groupby('treatment')['hba1c_change'].mean()\n",
    "hba1c_mean = hba1c_mean.reset_index(name='mean')\n",
    "hba1c_mean"
   ]
  },
  {
   "cell_type": "code",
   "execution_count": 73,
   "metadata": {},
   "outputs": [
    {
     "data": {
      "image/png": "[encoded data removed]",
      "text/plain": [
       "<Figure size 640x480 with 1 Axes>"
      ]
     },
     "metadata": {},
     "output_type": "display_data"
    }
   ],
   "source": [
    "# plot bar chart\n",
    "base_color = sns.color_palette()[0]\n",
    "\n",
    "sns.barplot(data=hba1c_mean, x = 'treatment', y='mean', color=base_color)\n",
    "plt.xlabel('Treatment')\n",
    "plt.ylabel('Mean Hba1c Change')\n",
    "plt.title('Mean Hba1c Change Over Treatments')\n",
    "plt.show()"
   ]
  },
  {
   "cell_type": "markdown",
   "metadata": {},
   "source": [
    "> The difference in the Mean Hba1c Change of Auralin and Novodra is much smaller which may imply the new oral insulin is effective and can help reduce high blood sugar level."
   ]
  },
  {
   "cell_type": "markdown",
   "metadata": {},
   "source": [
    "### Confidence Interval\n",
    "\n",
    "We want the upper limit of the confidence interval of the differences in means hbA1c change of the insulins to be less than 0.4, meaning that if the difference in means is less than 0.4, we can be highly confident that our results are meaningful."
   ]
  },
  {
   "cell_type": "code",
   "execution_count": 74,
   "metadata": {},
   "outputs": [
    {
     "data": {
      "text/plain": [
       "0.017055500821018144"
      ]
     },
     "execution_count": 74,
     "metadata": {},
     "output_type": "execute_result"
    }
   ],
   "source": [
    "CI_upper_limit = hba1c_mean.iloc[1,1] - hba1c_mean.iloc[0,1]\n",
    "CI_upper_limit"
   ]
  },
  {
   "cell_type": "markdown",
   "metadata": {},
   "source": [
    "> 0.016 is significantly lower than 0.4 (confidence interval), which means that Auralin oral insulin is similarly effective to Novodra injectable insulin."
   ]
  },
  {
   "cell_type": "markdown",
   "metadata": {},
   "source": [
    "### Key Findings:\n",
    "\n",
    "> <li> Diabetic Patients with healthy weight (18.5 – 24.9) and overweight (25.0 – 29.9) tend to have more frequency scores compared to other weight status. From the distribution, weight seems to have less impact on diabetes. </li>\n",
    "> <li> Auralin and Novodra insulins have similar adverse reactions excluding throat irritation and injection site discomfort. Throat irritation for Auralin, which is expected because the pill is taken orally while injection site discomfort for Novodra, which is caused by injection needles. </li>\n",
    "> <li> Auralin patients required an average of 8 more units of insulin to establish a normal blood sugar level compared to Novodra patients who required an average of 0.4 units less of insulin. </li>\n",
    "> <li> The difference in the Mean Hba1c Change of Auralin and Novodra is much smaller which may imply the new oral insulin is effective and can help reduce high blood sugar level. </li>\n",
    "> <li> Auralin (oral) insulin required more dosage of the insulin to help reduce the hbalc (hemoglobin A1c) while Novodra (injectable) insulin required less dosage of the insulin to help reduce the hbalc (hemoglobin A1c). </li>\n",
    "> <li> 0.016 is significantly lower than 0.4 (confidence interval), which means that Auralin oral insulin is similarly effective to Novodra injectable insulin. </li>"
   ]
  },
  {
   "cell_type": "markdown",
   "metadata": {},
   "source": [
    "#### Limitation\n",
    "> - The datasets are not based on consecutive weeks trials of the treatments, which made it hard to provide more data insights using statistical models.\n",
    "> - The datasets are not real but they are constraints to real-world insulin treatment data.\n"
   ]
  },
  {
   "cell_type": "code",
   "execution_count": null,
   "metadata": {},
   "outputs": [],
   "source": []
  }
 ],
 "metadata": {
  "kernelspec": {
   "display_name": "Python 3 (ipykernel)",
   "language": "python",
   "name": "python3"
  },
  "language_info": {
   "codemirror_mode": {
    "name": "ipython",
    "version": 3
   },
   "file_extension": ".py",
   "mimetype": "text/x-python",
   "name": "python",
   "nbconvert_exporter": "python",
   "pygments_lexer": "ipython3",
   "version": "3.9.12"
  }
 },
 "nbformat": 4,
 "nbformat_minor": 2
}
